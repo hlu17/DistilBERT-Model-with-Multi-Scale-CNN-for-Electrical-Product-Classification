{
 "cells": [
  {
   "cell_type": "code",
   "execution_count": 1,
   "metadata": {
    "id": "YCV0mcS-NGES"
   },
   "outputs": [
    {
     "name": "stdout",
     "output_type": "stream",
     "text": [
      "\u001b[33mWARNING: You are using pip version 21.3.1; however, version 22.3.1 is available.\n",
      "You should consider upgrading via the '/Users/haibilu/opt/anaconda3/bin/python -m pip install --upgrade pip' command.\u001b[0m\n"
     ]
    }
   ],
   "source": [
    "!pip install -U -q PyDrive"
   ]
  },
  {
   "cell_type": "code",
   "execution_count": 127,
   "metadata": {
    "colab": {
     "base_uri": "https://localhost:8080/"
    },
    "id": "c2m_VjUeNjQ0",
    "outputId": "4449ec75-b280-4a69-a858-5579f58f3eb7"
   },
   "outputs": [
    {
     "name": "stdout",
     "output_type": "stream",
     "text": [
      "Requirement already satisfied: transformers in /Users/haibilu/opt/anaconda3/lib/python3.8/site-packages (4.22.0)\n",
      "Requirement already satisfied: pyyaml>=5.1 in /Users/haibilu/opt/anaconda3/lib/python3.8/site-packages (from transformers) (5.3.1)\n",
      "Requirement already satisfied: packaging>=20.0 in /Users/haibilu/opt/anaconda3/lib/python3.8/site-packages (from transformers) (21.3)\n",
      "Requirement already satisfied: requests in /Users/haibilu/opt/anaconda3/lib/python3.8/site-packages (from transformers) (2.24.0)\n",
      "Requirement already satisfied: filelock in /Users/haibilu/opt/anaconda3/lib/python3.8/site-packages (from transformers) (3.0.12)\n",
      "Requirement already satisfied: regex!=2019.12.17 in /Users/haibilu/opt/anaconda3/lib/python3.8/site-packages (from transformers) (2020.10.15)\n",
      "Requirement already satisfied: numpy>=1.17 in /Users/haibilu/opt/anaconda3/lib/python3.8/site-packages (from transformers) (1.22.3)\n",
      "Requirement already satisfied: tqdm>=4.27 in /Users/haibilu/opt/anaconda3/lib/python3.8/site-packages (from transformers) (4.50.2)\n",
      "Requirement already satisfied: huggingface-hub<1.0,>=0.9.0 in /Users/haibilu/opt/anaconda3/lib/python3.8/site-packages (from transformers) (0.9.1)\n",
      "Requirement already satisfied: tokenizers!=0.11.3,<0.13,>=0.11.1 in /Users/haibilu/opt/anaconda3/lib/python3.8/site-packages (from transformers) (0.12.1)\n",
      "Requirement already satisfied: typing-extensions>=3.7.4.3 in /Users/haibilu/opt/anaconda3/lib/python3.8/site-packages (from huggingface-hub<1.0,>=0.9.0->transformers) (3.7.4.3)\n",
      "Requirement already satisfied: pyparsing!=3.0.5,>=2.0.2 in /Users/haibilu/opt/anaconda3/lib/python3.8/site-packages (from packaging>=20.0->transformers) (2.4.7)\n",
      "Requirement already satisfied: urllib3!=1.25.0,!=1.25.1,<1.26,>=1.21.1 in /Users/haibilu/opt/anaconda3/lib/python3.8/site-packages (from requests->transformers) (1.25.11)\n",
      "Requirement already satisfied: chardet<4,>=3.0.2 in /Users/haibilu/opt/anaconda3/lib/python3.8/site-packages (from requests->transformers) (3.0.4)\n",
      "Requirement already satisfied: certifi>=2017.4.17 in /Users/haibilu/opt/anaconda3/lib/python3.8/site-packages (from requests->transformers) (2020.6.20)\n",
      "Requirement already satisfied: idna<3,>=2.5 in /Users/haibilu/opt/anaconda3/lib/python3.8/site-packages (from requests->transformers) (2.10)\n",
      "\u001b[33mWARNING: You are using pip version 21.3.1; however, version 22.3.1 is available.\n",
      "You should consider upgrading via the '/Users/haibilu/opt/anaconda3/bin/python -m pip install --upgrade pip' command.\u001b[0m\n"
     ]
    }
   ],
   "source": [
    "!pip install transformers"
   ]
  },
  {
   "cell_type": "code",
   "execution_count": 128,
   "metadata": {
    "id": "yNlIARBhNZGK"
   },
   "outputs": [],
   "source": [
    "import pandas as pd\n",
    "import numpy as np\n",
    "import os\n",
    "import chardet\n",
    "import matplotlib.pyplot as plt\n",
    "%matplotlib inline\n",
    "import seaborn as sns\n",
    "\n",
    "from sklearn.model_selection import train_test_split\n",
    "from sklearn.preprocessing import LabelBinarizer, LabelEncoder\n",
    "from sklearn.metrics import confusion_matrix, accuracy_score\n",
    "\n",
    "import tensorflow as tf\n",
    "from tensorflow import keras \n",
    "from tensorflow.keras.layers import Dense, Input\n",
    "from tensorflow.keras.optimizers import Adam\n",
    "from keras.models import Model\n",
    "from tensorflow.keras import utils as np_utils\n",
    "from keras.utils.np_utils import to_categorical\n",
    "\n",
    "import transformers\n",
    "from transformers import AutoTokenizer,TFDistilBertModel, DistilBertConfig\n",
    "from transformers import TFAutoModel\n",
    "\n",
    "import warnings\n",
    "warnings.filterwarnings(\"ignore\")"
   ]
  },
  {
   "cell_type": "code",
   "execution_count": 5,
   "metadata": {
    "id": "Z3qNZpmuNLP9"
   },
   "outputs": [],
   "source": [
    "from pydrive.auth import GoogleAuth\n",
    "from pydrive.drive import GoogleDrive\n",
    "from google.colab import auth\n",
    "from oauth2client.client import GoogleCredentials"
   ]
  },
  {
   "cell_type": "code",
   "execution_count": 6,
   "metadata": {
    "id": "3Xz1b35MNNL2"
   },
   "outputs": [],
   "source": [
    "auth.authenticate_user()\n",
    "gauth = GoogleAuth()\n",
    "gauth.credentials = GoogleCredentials.get_application_default()\n",
    "drive = GoogleDrive(gauth)"
   ]
  },
  {
   "cell_type": "code",
   "execution_count": 7,
   "metadata": {
    "id": "mdDP1EOUNNph"
   },
   "outputs": [],
   "source": [
    "fileDownloaded = drive.CreateFile({'id':'1WPo4J9wi0bIXl2I5da_UYc1UqV8q_iRw'})\n",
    "fileDownloaded.GetContentFile('data_init.csv')"
   ]
  },
  {
   "cell_type": "code",
   "execution_count": 129,
   "metadata": {
    "colab": {
     "base_uri": "https://localhost:8080/"
    },
    "id": "pftcSS2FNVsJ",
    "outputId": "029d9b98-0334-4fd8-dbb7-98cc3f82129e"
   },
   "outputs": [
    {
     "data": {
      "text/plain": [
       "{'encoding': 'Windows-1254',\n",
       " 'confidence': 0.4445340489203496,\n",
       " 'language': 'Turkish'}"
      ]
     },
     "execution_count": 129,
     "metadata": {},
     "output_type": "execute_result"
    }
   ],
   "source": [
    "with open('data_init.csv', 'rb') as rawdata:\n",
    "    result = chardet.detect(rawdata.read(100000))\n",
    "result"
   ]
  },
  {
   "cell_type": "code",
   "execution_count": 163,
   "metadata": {
    "id": "AM3lwYajNYBF"
   },
   "outputs": [],
   "source": [
    "#df = pd.read_csv('data_init.csv',encoding='iso-8859-1',error_bad_lines=False, index_col = False)\n",
    "df = pd.read_csv('data_init.csv',encoding='iso-8859-1',error_bad_lines=False, index_col = False).sample(n=50000)"
   ]
  },
  {
   "cell_type": "code",
   "execution_count": 164,
   "metadata": {
    "colab": {
     "base_uri": "https://localhost:8080/"
    },
    "id": "0CTkm6RLN7RR",
    "outputId": "7e64a163-44ee-40b6-dd28-3988c605ae4d"
   },
   "outputs": [
    {
     "name": "stdout",
     "output_type": "stream",
     "text": [
      "<class 'pandas.core.frame.DataFrame'>\n",
      "Int64Index: 50000 entries, 379459 to 432791\n",
      "Data columns (total 13 columns):\n",
      " #   Column                     Non-Null Count  Dtype  \n",
      "---  ------                     --------------  -----  \n",
      " 0   ProductId                  50000 non-null  int64  \n",
      " 1   Manufacturer Account Name  50000 non-null  object \n",
      " 2   Brand/Label                50000 non-null  object \n",
      " 3   IDEA''s Public ID          50000 non-null  int64  \n",
      " 4   UPC Number                 45746 non-null  float64\n",
      " 5   EAN Number                 10130 non-null  float64\n",
      " 6   Catalog Number             50000 non-null  object \n",
      " 7   Invoice Description        50000 non-null  object \n",
      " 8   Catalog Description        33753 non-null  object \n",
      " 9   UNSPSC code                49499 non-null  float64\n",
      " 10  IGCC code                  33514 non-null  float64\n",
      " 11  CMD Category               49498 non-null  object \n",
      " 12  GTIN                       34007 non-null  float64\n",
      "dtypes: float64(5), int64(2), object(6)\n",
      "memory usage: 5.3+ MB\n"
     ]
    }
   ],
   "source": [
    "df.info()"
   ]
  },
  {
   "cell_type": "code",
   "execution_count": 165,
   "metadata": {
    "colab": {
     "base_uri": "https://localhost:8080/"
    },
    "id": "k_vbrGniOD2l",
    "outputId": "10ba3597-9da4-4a0e-efb0-5aa4e0237e1c"
   },
   "outputs": [
    {
     "name": "stdout",
     "output_type": "stream",
     "text": [
      "When threthold is 100 , the total number of CMD categories moved to'other' categories is 1406\n",
      "The total products in 'other' category is 15447\n",
      "Percentage of products that grouped in the 'other' category is 31.21 %\n"
     ]
    }
   ],
   "source": [
    "cmd_count = df['CMD Category'].value_counts()\n",
    "df['CMD_COUNT'] = df['CMD Category'].map(df['CMD Category'].value_counts())\n",
    "cmd_count\n",
    "threthold = 100\n",
    "others_count = cmd_count[cmd_count <=threthold ].count()\n",
    "others_sum = cmd_count[cmd_count <= threthold].sum()\n",
    "total = cmd_count.sum()\n",
    "other_pct = others_sum/total*100\n",
    "print(\"When threthold is\", threthold, \", the total number of CMD categories moved to'other' categories is\", others_count)\n",
    "print(\"The total products in 'other' category is\", others_sum)\n",
    "print(\"Percentage of products that grouped in the 'other' category is\", f'{other_pct:.2f}',\"%\")"
   ]
  },
  {
   "cell_type": "code",
   "execution_count": 166,
   "metadata": {
    "colab": {
     "base_uri": "https://localhost:8080/",
     "height": 792
    },
    "id": "91GNHHebRfIb",
    "outputId": "bcbae886-cb27-4a6a-ea37-c3849853cf10"
   },
   "outputs": [
    {
     "data": {
      "text/html": [
       "<div>\n",
       "<style scoped>\n",
       "    .dataframe tbody tr th:only-of-type {\n",
       "        vertical-align: middle;\n",
       "    }\n",
       "\n",
       "    .dataframe tbody tr th {\n",
       "        vertical-align: top;\n",
       "    }\n",
       "\n",
       "    .dataframe thead th {\n",
       "        text-align: right;\n",
       "    }\n",
       "</style>\n",
       "<table border=\"1\" class=\"dataframe\">\n",
       "  <thead>\n",
       "    <tr style=\"text-align: right;\">\n",
       "      <th></th>\n",
       "      <th>ProductId</th>\n",
       "      <th>Manufacturer Account Name</th>\n",
       "      <th>Brand/Label</th>\n",
       "      <th>IDEA''s Public ID</th>\n",
       "      <th>UPC Number</th>\n",
       "      <th>EAN Number</th>\n",
       "      <th>Catalog Number</th>\n",
       "      <th>Invoice Description</th>\n",
       "      <th>Catalog Description</th>\n",
       "      <th>UNSPSC code</th>\n",
       "      <th>IGCC code</th>\n",
       "      <th>CMD Category</th>\n",
       "      <th>GTIN</th>\n",
       "      <th>CMD_COUNT</th>\n",
       "    </tr>\n",
       "  </thead>\n",
       "  <tbody>\n",
       "    <tr>\n",
       "      <th>379459</th>\n",
       "      <td>554808</td>\n",
       "      <td>Brady</td>\n",
       "      <td>Brady®</td>\n",
       "      <td>11120</td>\n",
       "      <td>7.540000e+11</td>\n",
       "      <td>NaN</td>\n",
       "      <td>4042-A</td>\n",
       "      <td>4042-A COOLING WATER GRN/WHT STY A</td>\n",
       "      <td>Cooling Water Pipe Marker, 0.8125\"\" H x 0.8125...</td>\n",
       "      <td>55121737.0</td>\n",
       "      <td>5872.0</td>\n",
       "      <td>Pipe identification marker</td>\n",
       "      <td>7.540000e+11</td>\n",
       "      <td>136.0</td>\n",
       "    </tr>\n",
       "    <tr>\n",
       "      <th>293064</th>\n",
       "      <td>414926</td>\n",
       "      <td>RAB Lighting</td>\n",
       "      <td>RAB Lighting</td>\n",
       "      <td>11274</td>\n",
       "      <td>NaN</td>\n",
       "      <td>NaN</td>\n",
       "      <td>HALV18L940-MC-K/LC</td>\n",
       "      <td>HALV 25W 4000K LED FR MET S COPP LC BLK</td>\n",
       "      <td>Architectural 399 Lumens Halv Forward Light 25...</td>\n",
       "      <td>39112102.0</td>\n",
       "      <td>4060.0</td>\n",
       "      <td>LED Wall Mounted Architectural &amp; Specification...</td>\n",
       "      <td>NaN</td>\n",
       "      <td>372.0</td>\n",
       "    </tr>\n",
       "    <tr>\n",
       "      <th>212505</th>\n",
       "      <td>290770</td>\n",
       "      <td>nVent</td>\n",
       "      <td>nVent CADDY</td>\n",
       "      <td>11015</td>\n",
       "      <td>7.830000e+11</td>\n",
       "      <td>8.710000e+12</td>\n",
       "      <td>STS</td>\n",
       "      <td>CLAMP,STRUT TO STRUT,HALFSLOT,1/2INCH HE</td>\n",
       "      <td>Strut to Strut Connector</td>\n",
       "      <td>31161708.0</td>\n",
       "      <td>2841.0</td>\n",
       "      <td>Channel nuts</td>\n",
       "      <td>7.830000e+11</td>\n",
       "      <td>7.0</td>\n",
       "    </tr>\n",
       "    <tr>\n",
       "      <th>494351</th>\n",
       "      <td>751317</td>\n",
       "      <td>Encore Wire</td>\n",
       "      <td>ENCORE WIRE</td>\n",
       "      <td>12260</td>\n",
       "      <td>7.390000e+11</td>\n",
       "      <td>NaN</td>\n",
       "      <td>3.45E+11</td>\n",
       "      <td>AL 250 KCMIL USE-2 BLUE 2500' RL</td>\n",
       "      <td>ALUMINUM 250 KCMIL UNDERGROUND SERVICE ENTRY (...</td>\n",
       "      <td>26121661.0</td>\n",
       "      <td>1820.0</td>\n",
       "      <td>Aluminum conductor underground service entranc...</td>\n",
       "      <td>7.390000e+11</td>\n",
       "      <td>38.0</td>\n",
       "    </tr>\n",
       "    <tr>\n",
       "      <th>198592</th>\n",
       "      <td>269690</td>\n",
       "      <td>Siemens</td>\n",
       "      <td>Siemens</td>\n",
       "      <td>10991</td>\n",
       "      <td>7.840000e+11</td>\n",
       "      <td>NaN</td>\n",
       "      <td>9610TH-2116-CZTA</td>\n",
       "      <td>96PM,N5M,1024,DC,1a,60H,M,X,T,X</td>\n",
       "      <td>NaN</td>\n",
       "      <td>41113708.0</td>\n",
       "      <td>NaN</td>\n",
       "      <td>Power meters</td>\n",
       "      <td>NaN</td>\n",
       "      <td>341.0</td>\n",
       "    </tr>\n",
       "    <tr>\n",
       "      <th>32966</th>\n",
       "      <td>39393</td>\n",
       "      <td>Panduit</td>\n",
       "      <td>Panduit</td>\n",
       "      <td>10965</td>\n",
       "      <td>7.498382e+10</td>\n",
       "      <td>7.498382e+10</td>\n",
       "      <td>F623RSNSNSNM044</td>\n",
       "      <td>OM1,2-Fiber,3mm,PC,Risr,SC-SC,44M</td>\n",
       "      <td>OM1 2 fiber 3mm jacket patchcord, riser (OFNR)...</td>\n",
       "      <td>43223326.0</td>\n",
       "      <td>6967.0</td>\n",
       "      <td>Fiber optic patch cord</td>\n",
       "      <td>7.498382e+10</td>\n",
       "      <td>227.0</td>\n",
       "    </tr>\n",
       "    <tr>\n",
       "      <th>290173</th>\n",
       "      <td>410414</td>\n",
       "      <td>Panduit</td>\n",
       "      <td>Panduit</td>\n",
       "      <td>10965</td>\n",
       "      <td>7.498390e+10</td>\n",
       "      <td>7.498390e+10</td>\n",
       "      <td>FXTRL5N5NANM008</td>\n",
       "      <td>OM3,12-Fiber,LSZH,MPO/Fm-MPO/Fm,8M</td>\n",
       "      <td>OM3 12 fiber, interconnect cable assembly, low...</td>\n",
       "      <td>26121650.0</td>\n",
       "      <td>1808.0</td>\n",
       "      <td>Fiber optic cable assembly</td>\n",
       "      <td>7.498390e+10</td>\n",
       "      <td>620.0</td>\n",
       "    </tr>\n",
       "    <tr>\n",
       "      <th>338981</th>\n",
       "      <td>488199</td>\n",
       "      <td>Siemens</td>\n",
       "      <td>Siemens</td>\n",
       "      <td>10991</td>\n",
       "      <td>7.550000e+11</td>\n",
       "      <td>4.010000e+12</td>\n",
       "      <td>3RT1944-5BF42</td>\n",
       "      <td>DC CAGE COIL,S3,110VDC</td>\n",
       "      <td>NaN</td>\n",
       "      <td>39121010.0</td>\n",
       "      <td>NaN</td>\n",
       "      <td>Magnetic coils</td>\n",
       "      <td>NaN</td>\n",
       "      <td>11.0</td>\n",
       "    </tr>\n",
       "    <tr>\n",
       "      <th>495051</th>\n",
       "      <td>752558</td>\n",
       "      <td>Leviton - Canada</td>\n",
       "      <td>LEVITON</td>\n",
       "      <td>12203</td>\n",
       "      <td>7.847731e+10</td>\n",
       "      <td>NaN</td>\n",
       "      <td>P1044-10L</td>\n",
       "      <td>PDU 0RU 120V 20A (24) 5-20R L5-20P/10'</td>\n",
       "      <td>Vertical Power Distribution Unit 120 Volt 20 A...</td>\n",
       "      <td>39121017.0</td>\n",
       "      <td>4155.0</td>\n",
       "      <td>Power distribution units PDUs</td>\n",
       "      <td>7.847731e+10</td>\n",
       "      <td>47.0</td>\n",
       "    </tr>\n",
       "    <tr>\n",
       "      <th>150062</th>\n",
       "      <td>198292</td>\n",
       "      <td>Leviton - Canada</td>\n",
       "      <td>LEVITON</td>\n",
       "      <td>12203</td>\n",
       "      <td>7.847773e+10</td>\n",
       "      <td>NaN</td>\n",
       "      <td>G5362-WTE</td>\n",
       "      <td>EB IND GRAD WR TR ST GFCI 20A125V</td>\n",
       "      <td>20 Amp, 125 Volt, SmartlockPro Self-Test GFCI ...</td>\n",
       "      <td>39121406.0</td>\n",
       "      <td>4536.0</td>\n",
       "      <td>Electrical receptacles</td>\n",
       "      <td>7.847773e+10</td>\n",
       "      <td>801.0</td>\n",
       "    </tr>\n",
       "  </tbody>\n",
       "</table>\n",
       "</div>"
      ],
      "text/plain": [
       "        ProductId Manufacturer Account Name   Brand/Label  IDEA''s Public ID  \\\n",
       "379459     554808                     Brady        Brady®              11120   \n",
       "293064     414926              RAB Lighting  RAB Lighting              11274   \n",
       "212505     290770                     nVent   nVent CADDY              11015   \n",
       "494351     751317               Encore Wire   ENCORE WIRE              12260   \n",
       "198592     269690                   Siemens       Siemens              10991   \n",
       "32966       39393                   Panduit       Panduit              10965   \n",
       "290173     410414                   Panduit       Panduit              10965   \n",
       "338981     488199                   Siemens       Siemens              10991   \n",
       "495051     752558          Leviton - Canada       LEVITON              12203   \n",
       "150062     198292          Leviton - Canada       LEVITON              12203   \n",
       "\n",
       "          UPC Number    EAN Number      Catalog Number  \\\n",
       "379459  7.540000e+11           NaN              4042-A   \n",
       "293064           NaN           NaN  HALV18L940-MC-K/LC   \n",
       "212505  7.830000e+11  8.710000e+12                 STS   \n",
       "494351  7.390000e+11           NaN            3.45E+11   \n",
       "198592  7.840000e+11           NaN    9610TH-2116-CZTA   \n",
       "32966   7.498382e+10  7.498382e+10     F623RSNSNSNM044   \n",
       "290173  7.498390e+10  7.498390e+10     FXTRL5N5NANM008   \n",
       "338981  7.550000e+11  4.010000e+12       3RT1944-5BF42   \n",
       "495051  7.847731e+10           NaN           P1044-10L   \n",
       "150062  7.847773e+10           NaN           G5362-WTE   \n",
       "\n",
       "                             Invoice Description  \\\n",
       "379459        4042-A COOLING WATER GRN/WHT STY A   \n",
       "293064   HALV 25W 4000K LED FR MET S COPP LC BLK   \n",
       "212505  CLAMP,STRUT TO STRUT,HALFSLOT,1/2INCH HE   \n",
       "494351          AL 250 KCMIL USE-2 BLUE 2500' RL   \n",
       "198592           96PM,N5M,1024,DC,1a,60H,M,X,T,X   \n",
       "32966          OM1,2-Fiber,3mm,PC,Risr,SC-SC,44M   \n",
       "290173        OM3,12-Fiber,LSZH,MPO/Fm-MPO/Fm,8M   \n",
       "338981                    DC CAGE COIL,S3,110VDC   \n",
       "495051    PDU 0RU 120V 20A (24) 5-20R L5-20P/10'   \n",
       "150062         EB IND GRAD WR TR ST GFCI 20A125V   \n",
       "\n",
       "                                      Catalog Description  UNSPSC code  \\\n",
       "379459  Cooling Water Pipe Marker, 0.8125\"\" H x 0.8125...   55121737.0   \n",
       "293064  Architectural 399 Lumens Halv Forward Light 25...   39112102.0   \n",
       "212505                           Strut to Strut Connector   31161708.0   \n",
       "494351  ALUMINUM 250 KCMIL UNDERGROUND SERVICE ENTRY (...   26121661.0   \n",
       "198592                                                NaN   41113708.0   \n",
       "32966   OM1 2 fiber 3mm jacket patchcord, riser (OFNR)...   43223326.0   \n",
       "290173  OM3 12 fiber, interconnect cable assembly, low...   26121650.0   \n",
       "338981                                                NaN   39121010.0   \n",
       "495051  Vertical Power Distribution Unit 120 Volt 20 A...   39121017.0   \n",
       "150062  20 Amp, 125 Volt, SmartlockPro Self-Test GFCI ...   39121406.0   \n",
       "\n",
       "        IGCC code                                       CMD Category  \\\n",
       "379459     5872.0                         Pipe identification marker   \n",
       "293064     4060.0  LED Wall Mounted Architectural & Specification...   \n",
       "212505     2841.0                                       Channel nuts   \n",
       "494351     1820.0  Aluminum conductor underground service entranc...   \n",
       "198592        NaN                                       Power meters   \n",
       "32966      6967.0                             Fiber optic patch cord   \n",
       "290173     1808.0                         Fiber optic cable assembly   \n",
       "338981        NaN                                     Magnetic coils   \n",
       "495051     4155.0                      Power distribution units PDUs   \n",
       "150062     4536.0                             Electrical receptacles   \n",
       "\n",
       "                GTIN  CMD_COUNT  \n",
       "379459  7.540000e+11      136.0  \n",
       "293064           NaN      372.0  \n",
       "212505  7.830000e+11        7.0  \n",
       "494351  7.390000e+11       38.0  \n",
       "198592           NaN      341.0  \n",
       "32966   7.498382e+10      227.0  \n",
       "290173  7.498390e+10      620.0  \n",
       "338981           NaN       11.0  \n",
       "495051  7.847731e+10       47.0  \n",
       "150062  7.847773e+10      801.0  "
      ]
     },
     "execution_count": 166,
     "metadata": {},
     "output_type": "execute_result"
    }
   ],
   "source": [
    "df.head(10)"
   ]
  },
  {
   "cell_type": "code",
   "execution_count": 167,
   "metadata": {
    "id": "7eIoV-eNRuFw"
   },
   "outputs": [],
   "source": [
    "df.loc[df[\"CMD_COUNT\"] <= 100, \"CMD Category\"] = \"Other\""
   ]
  },
  {
   "cell_type": "code",
   "execution_count": 168,
   "metadata": {
    "colab": {
     "base_uri": "https://localhost:8080/"
    },
    "id": "IiTAWqJWQHuy",
    "outputId": "97ed667a-ff83-4b69-c9fd-ecad976945e9"
   },
   "outputs": [
    {
     "data": {
      "text/plain": [
       "Other                                                  15447\n",
       "Cable tray fitting and accessories                      1805\n",
       "Circuit breakers                                        1579\n",
       "Molded case circuit breakers                            1480\n",
       "Electrical equipment maintenance and repair service     1218\n",
       "                                                       ...  \n",
       "Electrical hangers                                       106\n",
       "Area lighting                                            104\n",
       "Load centers                                             104\n",
       "Circular connectors                                      102\n",
       "Fiber optic cable                                        101\n",
       "Name: CMD Category, Length: 114, dtype: int64"
      ]
     },
     "execution_count": 168,
     "metadata": {},
     "output_type": "execute_result"
    }
   ],
   "source": [
    "cmd_count = df['CMD Category'].value_counts()\n",
    "cmd_count"
   ]
  },
  {
   "cell_type": "code",
   "execution_count": 169,
   "metadata": {
    "id": "jhr036UqTlhy"
   },
   "outputs": [],
   "source": [
    "df = df[df['CMD Category']!= 'Other']"
   ]
  },
  {
   "cell_type": "code",
   "execution_count": 170,
   "metadata": {
    "id": "NPb_C71YOTcm"
   },
   "outputs": [],
   "source": [
    "X = df['Invoice Description'].astype('string')\n",
    "y = df['CMD Category'].astype('str')\n"
   ]
  },
  {
   "cell_type": "code",
   "execution_count": 183,
   "metadata": {},
   "outputs": [],
   "source": [
    "X_train,X_test,y_train,y_test = train_test_split(X, y, test_size=0.3, random_state = 0)\n",
    "encoder = LabelEncoder()\n",
    "\n",
    "\n",
    "\n"
   ]
  },
  {
   "cell_type": "code",
   "execution_count": 184,
   "metadata": {},
   "outputs": [
    {
     "data": {
      "text/plain": [
       "LabelEncoder()"
      ]
     },
     "execution_count": 184,
     "metadata": {},
     "output_type": "execute_result"
    }
   ],
   "source": [
    "encoder.fit(y_train)"
   ]
  },
  {
   "cell_type": "code",
   "execution_count": 185,
   "metadata": {},
   "outputs": [],
   "source": [
    "y_train = encoder.transform(y_train)\n",
    "y_test = encoder.transform(y_test)\n",
    "\n",
    "num_classes = np.max(y_train) + 1\n",
    "y_train = tf.keras.utils.to_categorical(y_train, num_classes)\n",
    "y_test = tf.keras.utils.to_categorical(y_test, num_classes)"
   ]
  },
  {
   "cell_type": "code",
   "execution_count": 186,
   "metadata": {
    "colab": {
     "base_uri": "https://localhost:8080/"
    },
    "id": "jA6keMumXJIy",
    "outputId": "4ab5e794-09a0-4778-9d3f-29112c2bc3be"
   },
   "outputs": [
    {
     "data": {
      "text/plain": [
       "array([[0., 0., 0., ..., 0., 0., 0.],\n",
       "       [0., 0., 0., ..., 0., 0., 0.],\n",
       "       [0., 0., 0., ..., 0., 0., 1.],\n",
       "       ...,\n",
       "       [0., 0., 0., ..., 0., 0., 0.],\n",
       "       [0., 0., 0., ..., 0., 0., 0.],\n",
       "       [0., 0., 0., ..., 0., 0., 0.]], dtype=float32)"
      ]
     },
     "execution_count": 186,
     "metadata": {},
     "output_type": "execute_result"
    }
   ],
   "source": [
    "y_train"
   ]
  },
  {
   "cell_type": "code",
   "execution_count": null,
   "metadata": {},
   "outputs": [],
   "source": []
  },
  {
   "cell_type": "code",
   "execution_count": 187,
   "metadata": {
    "colab": {
     "base_uri": "https://localhost:8080/"
    },
    "id": "JVjlx8d1W142",
    "outputId": "cbcb4c2a-caf3-40e4-b124-339d6d738584"
   },
   "outputs": [
    {
     "name": "stdout",
     "output_type": "stream",
     "text": [
      "(24187,)\n",
      "(10366,)\n",
      "(24187, 114)\n",
      "(10366, 114)\n"
     ]
    }
   ],
   "source": [
    "print(X_train.shape)\n",
    "print(X_test.shape)\n",
    "print(y_train.shape)\n",
    "print(y_test .shape)"
   ]
  },
  {
   "cell_type": "code",
   "execution_count": 188,
   "metadata": {
    "id": "R5isPZIxVTA4"
   },
   "outputs": [],
   "source": [
    "# Creating tokenizer\n",
    "tokenizer = AutoTokenizer.from_pretrained('distilbert-base-uncased')"
   ]
  },
  {
   "cell_type": "code",
   "execution_count": 189,
   "metadata": {
    "colab": {
     "base_uri": "https://localhost:8080/"
    },
    "id": "30Aom1GAVV2a",
    "outputId": "d704bbe2-b325-495b-aacb-9ff913b45dac"
   },
   "outputs": [
    {
     "name": "stderr",
     "output_type": "stream",
     "text": [
      "Some layers from the model checkpoint at distilbert-base-uncased were not used when initializing TFDistilBertModel: ['activation_13', 'vocab_layer_norm', 'vocab_projector', 'vocab_transform']\n",
      "- This IS expected if you are initializing TFDistilBertModel from the checkpoint of a model trained on another task or with another architecture (e.g. initializing a BertForSequenceClassification model from a BertForPreTraining model).\n",
      "- This IS NOT expected if you are initializing TFDistilBertModel from the checkpoint of a model that you expect to be exactly identical (initializing a BertForSequenceClassification model from a BertForSequenceClassification model).\n",
      "All the layers of TFDistilBertModel were initialized from the model checkpoint at distilbert-base-uncased.\n",
      "If your task is similar to the task the model of the checkpoint was trained on, you can already use TFDistilBertModel for predictions without further training.\n"
     ]
    }
   ],
   "source": [
    "bert = TFAutoModel.from_pretrained('distilbert-base-uncased')"
   ]
  },
  {
   "cell_type": "code",
   "execution_count": 178,
   "metadata": {
    "id": "vmy-GHGZVX5h"
   },
   "outputs": [],
   "source": [
    "for layer in bert.layers:\n",
    "      layer.trainable = True"
   ]
  },
  {
   "cell_type": "code",
   "execution_count": 190,
   "metadata": {
    "id": "apOCegkzVaXo"
   },
   "outputs": [],
   "source": [
    "# Tokenization of the data\n",
    "def text_encode(text, tokenizer, max_len=100):\n",
    "    tokens = text.apply(lambda x: tokenizer(x,return_tensors='tf', \n",
    "                                            truncation=True,\n",
    "                                            padding='max_length',\n",
    "                                            max_length=max_len, \n",
    "                                            add_special_tokens=True))\n",
    "    input_ids= []\n",
    "    attention_mask=[]\n",
    "    for item in tokens:\n",
    "        input_ids.append(item['input_ids'])\n",
    "        attention_mask.append(item['attention_mask'])\n",
    "    input_ids, attention_mask=np.squeeze(input_ids), np.squeeze(attention_mask)\n",
    "\n",
    "    return [input_ids,attention_mask]"
   ]
  },
  {
   "cell_type": "code",
   "execution_count": 191,
   "metadata": {
    "id": "xHVxvZ6OVesi"
   },
   "outputs": [],
   "source": [
    "X_train_input_ids, X_train_attention_mask = text_encode(X_train, tokenizer, max_len=100)\n",
    "X_test_input_ids, X_test_attention_mask = text_encode(X_test, tokenizer, max_len=100)"
   ]
  },
  {
   "cell_type": "code",
   "execution_count": 192,
   "metadata": {},
   "outputs": [],
   "source": [
    "from keras import backend as K\n",
    "\n",
    "def recall_m(y_true, y_pred):\n",
    "    true_positives = K.sum(K.round(K.clip(y_true * y_pred, 0, 1)))\n",
    "    possible_positives = K.sum(K.round(K.clip(y_true, 0, 1)))\n",
    "    recall = true_positives / (possible_positives + K.epsilon())\n",
    "    return recall\n",
    "\n",
    "def precision_m(y_true, y_pred):\n",
    "    true_positives = K.sum(K.round(K.clip(y_true * y_pred, 0, 1)))\n",
    "    predicted_positives = K.sum(K.round(K.clip(y_pred, 0, 1)))\n",
    "    precision = true_positives / (predicted_positives + K.epsilon())\n",
    "    return precision\n",
    "\n",
    "def f1_m(y_true, y_pred):\n",
    "    precision = precision_m(y_true, y_pred)\n",
    "    recall = recall_m(y_true, y_pred)\n",
    "    return 2*((precision*recall)/(precision+recall+K.epsilon()))"
   ]
  },
  {
   "cell_type": "code",
   "execution_count": 193,
   "metadata": {
    "id": "m5UGeRczVhC9"
   },
   "outputs": [],
   "source": [
    "# model creation\n",
    "def build_model(bert_model, maxlen=100):\n",
    "   input_ids = tf.keras.Input(shape=(maxlen,),dtype=tf.int32, name='input_ids')\n",
    "   attention_mask = tf.keras.Input(shape=(maxlen,),dtype=tf.int32, name='attention_mask')\n",
    "\n",
    "   sequence_output = bert_model(input_ids,attention_mask=attention_mask)\n",
    "   output = sequence_output[0][:,0,:]\n",
    "   output = tf.keras.layers.Dense(32,activation='relu')(output)\n",
    "   output = tf.keras.layers.Dropout(0.2)(output)\n",
    "   output = tf.keras.layers.Dense(114,activation='softmax')(output)\n",
    "\n",
    "   model = tf.keras.models.Model(inputs = [input_ids,attention_mask], outputs = [output])\n",
    "   model.compile(Adam(lr=1e-5), loss='categorical_crossentropy', metrics=['accuracy'])\n",
    "\n",
    "   return model"
   ]
  },
  {
   "cell_type": "code",
   "execution_count": 194,
   "metadata": {
    "id": "qvPU4Zr_Vjjt"
   },
   "outputs": [],
   "source": [
    "model_bert = build_model(bert, maxlen=100)"
   ]
  },
  {
   "cell_type": "code",
   "execution_count": 195,
   "metadata": {
    "colab": {
     "base_uri": "https://localhost:8080/"
    },
    "id": "8VnfmR3mVmAb",
    "outputId": "1aa5530b-0ce0-49ff-b0ee-b6f959e901b9"
   },
   "outputs": [
    {
     "name": "stdout",
     "output_type": "stream",
     "text": [
      "Epoch 1/10\n",
      "378/378 [==============================] - 5446s 14s/step - loss: 3.8942 - accuracy: 0.2029 - val_loss: 2.9528 - val_accuracy: 0.4206\n",
      "Epoch 2/10\n",
      "378/378 [==============================] - 4102s 11s/step - loss: 2.7994 - accuracy: 0.4222 - val_loss: 2.2759 - val_accuracy: 0.5236\n",
      "Epoch 3/10\n",
      "378/378 [==============================] - 3861s 10s/step - loss: 2.2973 - accuracy: 0.5128 - val_loss: 1.9161 - val_accuracy: 0.5967\n",
      "Epoch 4/10\n",
      "378/378 [==============================] - 3671s 10s/step - loss: 1.9706 - accuracy: 0.5773 - val_loss: 1.6915 - val_accuracy: 0.6392\n",
      "Epoch 5/10\n",
      "378/378 [==============================] - 3615s 10s/step - loss: 1.7349 - accuracy: 0.6226 - val_loss: 1.5333 - val_accuracy: 0.6664\n",
      "Epoch 6/10\n",
      "378/378 [==============================] - 3527s 9s/step - loss: 1.5474 - accuracy: 0.6585 - val_loss: 1.4121 - val_accuracy: 0.6952\n",
      "Epoch 7/10\n",
      " 87/378 [=====>........................] - ETA: 47:32 - loss: 1.4062 - accuracy: 0.6827"
     ]
    },
    {
     "ename": "KeyboardInterrupt",
     "evalue": "",
     "output_type": "error",
     "traceback": [
      "\u001b[0;31m---------------------------------------------------------------------------\u001b[0m",
      "\u001b[0;31mKeyboardInterrupt\u001b[0m                         Traceback (most recent call last)",
      "\u001b[0;32m<ipython-input-195-a3008b987605>\u001b[0m in \u001b[0;36m<module>\u001b[0;34m\u001b[0m\n\u001b[0;32m----> 1\u001b[0;31m history = model_bert.fit(\n\u001b[0m\u001b[1;32m      2\u001b[0m     \u001b[0;34m[\u001b[0m\u001b[0mX_train_input_ids\u001b[0m\u001b[0;34m,\u001b[0m \u001b[0mX_train_attention_mask\u001b[0m\u001b[0;34m]\u001b[0m\u001b[0;34m,\u001b[0m\u001b[0;34m\u001b[0m\u001b[0;34m\u001b[0m\u001b[0m\n\u001b[1;32m      3\u001b[0m     \u001b[0my_train\u001b[0m\u001b[0;34m,\u001b[0m\u001b[0;34m\u001b[0m\u001b[0;34m\u001b[0m\u001b[0m\n\u001b[1;32m      4\u001b[0m     \u001b[0mbatch_size\u001b[0m\u001b[0;34m=\u001b[0m\u001b[0;36m64\u001b[0m\u001b[0;34m,\u001b[0m\u001b[0;34m\u001b[0m\u001b[0;34m\u001b[0m\u001b[0m\n\u001b[1;32m      5\u001b[0m     \u001b[0mvalidation_data\u001b[0m\u001b[0;34m=\u001b[0m\u001b[0;34m(\u001b[0m\u001b[0;34m[\u001b[0m\u001b[0mX_test_input_ids\u001b[0m\u001b[0;34m,\u001b[0m \u001b[0mX_test_attention_mask\u001b[0m\u001b[0;34m]\u001b[0m\u001b[0;34m,\u001b[0m \u001b[0my_test\u001b[0m\u001b[0;34m)\u001b[0m\u001b[0;34m,\u001b[0m\u001b[0;34m\u001b[0m\u001b[0;34m\u001b[0m\u001b[0m\n",
      "\u001b[0;32m~/opt/anaconda3/lib/python3.8/site-packages/keras/utils/traceback_utils.py\u001b[0m in \u001b[0;36merror_handler\u001b[0;34m(*args, **kwargs)\u001b[0m\n\u001b[1;32m     62\u001b[0m     \u001b[0mfiltered_tb\u001b[0m \u001b[0;34m=\u001b[0m \u001b[0;32mNone\u001b[0m\u001b[0;34m\u001b[0m\u001b[0;34m\u001b[0m\u001b[0m\n\u001b[1;32m     63\u001b[0m     \u001b[0;32mtry\u001b[0m\u001b[0;34m:\u001b[0m\u001b[0;34m\u001b[0m\u001b[0;34m\u001b[0m\u001b[0m\n\u001b[0;32m---> 64\u001b[0;31m       \u001b[0;32mreturn\u001b[0m \u001b[0mfn\u001b[0m\u001b[0;34m(\u001b[0m\u001b[0;34m*\u001b[0m\u001b[0margs\u001b[0m\u001b[0;34m,\u001b[0m \u001b[0;34m**\u001b[0m\u001b[0mkwargs\u001b[0m\u001b[0;34m)\u001b[0m\u001b[0;34m\u001b[0m\u001b[0;34m\u001b[0m\u001b[0m\n\u001b[0m\u001b[1;32m     65\u001b[0m     \u001b[0;32mexcept\u001b[0m \u001b[0mException\u001b[0m \u001b[0;32mas\u001b[0m \u001b[0me\u001b[0m\u001b[0;34m:\u001b[0m  \u001b[0;31m# pylint: disable=broad-except\u001b[0m\u001b[0;34m\u001b[0m\u001b[0;34m\u001b[0m\u001b[0m\n\u001b[1;32m     66\u001b[0m       \u001b[0mfiltered_tb\u001b[0m \u001b[0;34m=\u001b[0m \u001b[0m_process_traceback_frames\u001b[0m\u001b[0;34m(\u001b[0m\u001b[0me\u001b[0m\u001b[0;34m.\u001b[0m\u001b[0m__traceback__\u001b[0m\u001b[0;34m)\u001b[0m\u001b[0;34m\u001b[0m\u001b[0;34m\u001b[0m\u001b[0m\n",
      "\u001b[0;32m~/opt/anaconda3/lib/python3.8/site-packages/keras/engine/training.py\u001b[0m in \u001b[0;36mfit\u001b[0;34m(self, x, y, batch_size, epochs, verbose, callbacks, validation_split, validation_data, shuffle, class_weight, sample_weight, initial_epoch, steps_per_epoch, validation_steps, validation_batch_size, validation_freq, max_queue_size, workers, use_multiprocessing)\u001b[0m\n\u001b[1;32m   1382\u001b[0m                 _r=1):\n\u001b[1;32m   1383\u001b[0m               \u001b[0mcallbacks\u001b[0m\u001b[0;34m.\u001b[0m\u001b[0mon_train_batch_begin\u001b[0m\u001b[0;34m(\u001b[0m\u001b[0mstep\u001b[0m\u001b[0;34m)\u001b[0m\u001b[0;34m\u001b[0m\u001b[0;34m\u001b[0m\u001b[0m\n\u001b[0;32m-> 1384\u001b[0;31m               \u001b[0mtmp_logs\u001b[0m \u001b[0;34m=\u001b[0m \u001b[0mself\u001b[0m\u001b[0;34m.\u001b[0m\u001b[0mtrain_function\u001b[0m\u001b[0;34m(\u001b[0m\u001b[0miterator\u001b[0m\u001b[0;34m)\u001b[0m\u001b[0;34m\u001b[0m\u001b[0;34m\u001b[0m\u001b[0m\n\u001b[0m\u001b[1;32m   1385\u001b[0m               \u001b[0;32mif\u001b[0m \u001b[0mdata_handler\u001b[0m\u001b[0;34m.\u001b[0m\u001b[0mshould_sync\u001b[0m\u001b[0;34m:\u001b[0m\u001b[0;34m\u001b[0m\u001b[0;34m\u001b[0m\u001b[0m\n\u001b[1;32m   1386\u001b[0m                 \u001b[0mcontext\u001b[0m\u001b[0;34m.\u001b[0m\u001b[0masync_wait\u001b[0m\u001b[0;34m(\u001b[0m\u001b[0;34m)\u001b[0m\u001b[0;34m\u001b[0m\u001b[0;34m\u001b[0m\u001b[0m\n",
      "\u001b[0;32m~/opt/anaconda3/lib/python3.8/site-packages/tensorflow/python/util/traceback_utils.py\u001b[0m in \u001b[0;36merror_handler\u001b[0;34m(*args, **kwargs)\u001b[0m\n\u001b[1;32m    148\u001b[0m     \u001b[0mfiltered_tb\u001b[0m \u001b[0;34m=\u001b[0m \u001b[0;32mNone\u001b[0m\u001b[0;34m\u001b[0m\u001b[0;34m\u001b[0m\u001b[0m\n\u001b[1;32m    149\u001b[0m     \u001b[0;32mtry\u001b[0m\u001b[0;34m:\u001b[0m\u001b[0;34m\u001b[0m\u001b[0;34m\u001b[0m\u001b[0m\n\u001b[0;32m--> 150\u001b[0;31m       \u001b[0;32mreturn\u001b[0m \u001b[0mfn\u001b[0m\u001b[0;34m(\u001b[0m\u001b[0;34m*\u001b[0m\u001b[0margs\u001b[0m\u001b[0;34m,\u001b[0m \u001b[0;34m**\u001b[0m\u001b[0mkwargs\u001b[0m\u001b[0;34m)\u001b[0m\u001b[0;34m\u001b[0m\u001b[0;34m\u001b[0m\u001b[0m\n\u001b[0m\u001b[1;32m    151\u001b[0m     \u001b[0;32mexcept\u001b[0m \u001b[0mException\u001b[0m \u001b[0;32mas\u001b[0m \u001b[0me\u001b[0m\u001b[0;34m:\u001b[0m\u001b[0;34m\u001b[0m\u001b[0;34m\u001b[0m\u001b[0m\n\u001b[1;32m    152\u001b[0m       \u001b[0mfiltered_tb\u001b[0m \u001b[0;34m=\u001b[0m \u001b[0m_process_traceback_frames\u001b[0m\u001b[0;34m(\u001b[0m\u001b[0me\u001b[0m\u001b[0;34m.\u001b[0m\u001b[0m__traceback__\u001b[0m\u001b[0;34m)\u001b[0m\u001b[0;34m\u001b[0m\u001b[0;34m\u001b[0m\u001b[0m\n",
      "\u001b[0;32m~/opt/anaconda3/lib/python3.8/site-packages/tensorflow/python/eager/def_function.py\u001b[0m in \u001b[0;36m__call__\u001b[0;34m(self, *args, **kwds)\u001b[0m\n\u001b[1;32m    913\u001b[0m \u001b[0;34m\u001b[0m\u001b[0m\n\u001b[1;32m    914\u001b[0m       \u001b[0;32mwith\u001b[0m \u001b[0mOptionalXlaContext\u001b[0m\u001b[0;34m(\u001b[0m\u001b[0mself\u001b[0m\u001b[0;34m.\u001b[0m\u001b[0m_jit_compile\u001b[0m\u001b[0;34m)\u001b[0m\u001b[0;34m:\u001b[0m\u001b[0;34m\u001b[0m\u001b[0;34m\u001b[0m\u001b[0m\n\u001b[0;32m--> 915\u001b[0;31m         \u001b[0mresult\u001b[0m \u001b[0;34m=\u001b[0m \u001b[0mself\u001b[0m\u001b[0;34m.\u001b[0m\u001b[0m_call\u001b[0m\u001b[0;34m(\u001b[0m\u001b[0;34m*\u001b[0m\u001b[0margs\u001b[0m\u001b[0;34m,\u001b[0m \u001b[0;34m**\u001b[0m\u001b[0mkwds\u001b[0m\u001b[0;34m)\u001b[0m\u001b[0;34m\u001b[0m\u001b[0;34m\u001b[0m\u001b[0m\n\u001b[0m\u001b[1;32m    916\u001b[0m \u001b[0;34m\u001b[0m\u001b[0m\n\u001b[1;32m    917\u001b[0m       \u001b[0mnew_tracing_count\u001b[0m \u001b[0;34m=\u001b[0m \u001b[0mself\u001b[0m\u001b[0;34m.\u001b[0m\u001b[0mexperimental_get_tracing_count\u001b[0m\u001b[0;34m(\u001b[0m\u001b[0;34m)\u001b[0m\u001b[0;34m\u001b[0m\u001b[0;34m\u001b[0m\u001b[0m\n",
      "\u001b[0;32m~/opt/anaconda3/lib/python3.8/site-packages/tensorflow/python/eager/def_function.py\u001b[0m in \u001b[0;36m_call\u001b[0;34m(self, *args, **kwds)\u001b[0m\n\u001b[1;32m    945\u001b[0m       \u001b[0;31m# In this case we have created variables on the first call, so we run the\u001b[0m\u001b[0;34m\u001b[0m\u001b[0;34m\u001b[0m\u001b[0;34m\u001b[0m\u001b[0m\n\u001b[1;32m    946\u001b[0m       \u001b[0;31m# defunned version which is guaranteed to never create variables.\u001b[0m\u001b[0;34m\u001b[0m\u001b[0;34m\u001b[0m\u001b[0;34m\u001b[0m\u001b[0m\n\u001b[0;32m--> 947\u001b[0;31m       \u001b[0;32mreturn\u001b[0m \u001b[0mself\u001b[0m\u001b[0;34m.\u001b[0m\u001b[0m_stateless_fn\u001b[0m\u001b[0;34m(\u001b[0m\u001b[0;34m*\u001b[0m\u001b[0margs\u001b[0m\u001b[0;34m,\u001b[0m \u001b[0;34m**\u001b[0m\u001b[0mkwds\u001b[0m\u001b[0;34m)\u001b[0m  \u001b[0;31m# pylint: disable=not-callable\u001b[0m\u001b[0;34m\u001b[0m\u001b[0;34m\u001b[0m\u001b[0m\n\u001b[0m\u001b[1;32m    948\u001b[0m     \u001b[0;32melif\u001b[0m \u001b[0mself\u001b[0m\u001b[0;34m.\u001b[0m\u001b[0m_stateful_fn\u001b[0m \u001b[0;32mis\u001b[0m \u001b[0;32mnot\u001b[0m \u001b[0;32mNone\u001b[0m\u001b[0;34m:\u001b[0m\u001b[0;34m\u001b[0m\u001b[0;34m\u001b[0m\u001b[0m\n\u001b[1;32m    949\u001b[0m       \u001b[0;31m# Release the lock early so that multiple threads can perform the call\u001b[0m\u001b[0;34m\u001b[0m\u001b[0;34m\u001b[0m\u001b[0;34m\u001b[0m\u001b[0m\n",
      "\u001b[0;32m~/opt/anaconda3/lib/python3.8/site-packages/tensorflow/python/eager/function.py\u001b[0m in \u001b[0;36m__call__\u001b[0;34m(self, *args, **kwargs)\u001b[0m\n\u001b[1;32m   2954\u001b[0m       (graph_function,\n\u001b[1;32m   2955\u001b[0m        filtered_flat_args) = self._maybe_define_function(args, kwargs)\n\u001b[0;32m-> 2956\u001b[0;31m     return graph_function._call_flat(\n\u001b[0m\u001b[1;32m   2957\u001b[0m         filtered_flat_args, captured_inputs=graph_function.captured_inputs)  # pylint: disable=protected-access\n\u001b[1;32m   2958\u001b[0m \u001b[0;34m\u001b[0m\u001b[0m\n",
      "\u001b[0;32m~/opt/anaconda3/lib/python3.8/site-packages/tensorflow/python/eager/function.py\u001b[0m in \u001b[0;36m_call_flat\u001b[0;34m(self, args, captured_inputs, cancellation_manager)\u001b[0m\n\u001b[1;32m   1851\u001b[0m         and executing_eagerly):\n\u001b[1;32m   1852\u001b[0m       \u001b[0;31m# No tape is watching; skip to running the function.\u001b[0m\u001b[0;34m\u001b[0m\u001b[0;34m\u001b[0m\u001b[0;34m\u001b[0m\u001b[0m\n\u001b[0;32m-> 1853\u001b[0;31m       return self._build_call_outputs(self._inference_function.call(\n\u001b[0m\u001b[1;32m   1854\u001b[0m           ctx, args, cancellation_manager=cancellation_manager))\n\u001b[1;32m   1855\u001b[0m     forward_backward = self._select_forward_and_backward_functions(\n",
      "\u001b[0;32m~/opt/anaconda3/lib/python3.8/site-packages/tensorflow/python/eager/function.py\u001b[0m in \u001b[0;36mcall\u001b[0;34m(self, ctx, args, cancellation_manager)\u001b[0m\n\u001b[1;32m    497\u001b[0m       \u001b[0;32mwith\u001b[0m \u001b[0m_InterpolateFunctionError\u001b[0m\u001b[0;34m(\u001b[0m\u001b[0mself\u001b[0m\u001b[0;34m)\u001b[0m\u001b[0;34m:\u001b[0m\u001b[0;34m\u001b[0m\u001b[0;34m\u001b[0m\u001b[0m\n\u001b[1;32m    498\u001b[0m         \u001b[0;32mif\u001b[0m \u001b[0mcancellation_manager\u001b[0m \u001b[0;32mis\u001b[0m \u001b[0;32mNone\u001b[0m\u001b[0;34m:\u001b[0m\u001b[0;34m\u001b[0m\u001b[0;34m\u001b[0m\u001b[0m\n\u001b[0;32m--> 499\u001b[0;31m           outputs = execute.execute(\n\u001b[0m\u001b[1;32m    500\u001b[0m               \u001b[0mstr\u001b[0m\u001b[0;34m(\u001b[0m\u001b[0mself\u001b[0m\u001b[0;34m.\u001b[0m\u001b[0msignature\u001b[0m\u001b[0;34m.\u001b[0m\u001b[0mname\u001b[0m\u001b[0;34m)\u001b[0m\u001b[0;34m,\u001b[0m\u001b[0;34m\u001b[0m\u001b[0;34m\u001b[0m\u001b[0m\n\u001b[1;32m    501\u001b[0m               \u001b[0mnum_outputs\u001b[0m\u001b[0;34m=\u001b[0m\u001b[0mself\u001b[0m\u001b[0;34m.\u001b[0m\u001b[0m_num_outputs\u001b[0m\u001b[0;34m,\u001b[0m\u001b[0;34m\u001b[0m\u001b[0;34m\u001b[0m\u001b[0m\n",
      "\u001b[0;32m~/opt/anaconda3/lib/python3.8/site-packages/tensorflow/python/eager/execute.py\u001b[0m in \u001b[0;36mquick_execute\u001b[0;34m(op_name, num_outputs, inputs, attrs, ctx, name)\u001b[0m\n\u001b[1;32m     52\u001b[0m   \u001b[0;32mtry\u001b[0m\u001b[0;34m:\u001b[0m\u001b[0;34m\u001b[0m\u001b[0;34m\u001b[0m\u001b[0m\n\u001b[1;32m     53\u001b[0m     \u001b[0mctx\u001b[0m\u001b[0;34m.\u001b[0m\u001b[0mensure_initialized\u001b[0m\u001b[0;34m(\u001b[0m\u001b[0;34m)\u001b[0m\u001b[0;34m\u001b[0m\u001b[0;34m\u001b[0m\u001b[0m\n\u001b[0;32m---> 54\u001b[0;31m     tensors = pywrap_tfe.TFE_Py_Execute(ctx._handle, device_name, op_name,\n\u001b[0m\u001b[1;32m     55\u001b[0m                                         inputs, attrs, num_outputs)\n\u001b[1;32m     56\u001b[0m   \u001b[0;32mexcept\u001b[0m \u001b[0mcore\u001b[0m\u001b[0;34m.\u001b[0m\u001b[0m_NotOkStatusException\u001b[0m \u001b[0;32mas\u001b[0m \u001b[0me\u001b[0m\u001b[0;34m:\u001b[0m\u001b[0;34m\u001b[0m\u001b[0;34m\u001b[0m\u001b[0m\n",
      "\u001b[0;31mKeyboardInterrupt\u001b[0m: "
     ]
    }
   ],
   "source": [
    "history = model_bert.fit(\n",
    "    [X_train_input_ids, X_train_attention_mask],\n",
    "    y_train,\n",
    "    batch_size=64,\n",
    "    validation_data=([X_test_input_ids, X_test_attention_mask], y_test),\n",
    "    epochs=10\n",
    ")"
   ]
  },
  {
   "cell_type": "code",
   "execution_count": null,
   "metadata": {},
   "outputs": [],
   "source": []
  }
 ],
 "metadata": {
  "colab": {
   "provenance": []
  },
  "kernelspec": {
   "display_name": "Python 3",
   "language": "python",
   "name": "python3"
  },
  "language_info": {
   "codemirror_mode": {
    "name": "ipython",
    "version": 3
   },
   "file_extension": ".py",
   "mimetype": "text/x-python",
   "name": "python",
   "nbconvert_exporter": "python",
   "pygments_lexer": "ipython3",
   "version": "3.8.5"
  }
 },
 "nbformat": 4,
 "nbformat_minor": 4
}
