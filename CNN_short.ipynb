{
 "cells": [
  {
   "cell_type": "code",
   "execution_count": 36,
   "metadata": {
    "id": "lxxkRLTYcuKk"
   },
   "outputs": [],
   "source": [
    "import numpy as np\n",
    "import pandas as pd\n",
    "import matplotlib.pyplot as plt\n",
    "import chardet\n",
    "%matplotlib inline\n",
    "\n",
    "from sklearn.model_selection import train_test_split\n",
    "from sklearn.preprocessing import LabelBinarizer, LabelEncoder\n",
    "from sklearn.metrics import confusion_matrix, accuracy_score\n",
    "\n",
    "import tensorflow as tf\n",
    "from tensorflow import keras\n",
    "from keras.models import Sequential\n",
    "from keras.layers import Dense, Flatten, Activation, Dropout, GlobalMaxPool1D, Conv1D\n",
    "from keras.layers import Embedding\n",
    "from keras.preprocessing import text, sequence\n",
    "from keras.preprocessing.text import Tokenizer\n",
    "from keras.preprocessing.sequence import pad_sequences\n",
    "from keras import utils\n",
    "from keras.utils import np_utils\n",
    "\n",
    "import seaborn as sns\n",
    "\n",
    "\n",
    "from tensorflow.keras.layers import Dense, Input\n",
    "from tensorflow.keras.optimizers import Adam\n",
    "from keras.models import Model\n",
    "from tensorflow.keras import utils as np_utils\n",
    "from keras.utils.np_utils import to_categorical\n",
    "\n",
    "import transformers\n",
    "from transformers import AutoTokenizer,TFDistilBertModel, DistilBertConfig\n",
    "from transformers import TFAutoModel\n",
    "\n",
    "import warnings\n",
    "warnings.filterwarnings(\"ignore\")"
   ]
  },
  {
   "cell_type": "code",
   "execution_count": null,
   "metadata": {
    "id": "_jinWY3kc5e6"
   },
   "outputs": [],
   "source": [
    "!pip install -U -q PyDrive"
   ]
  },
  {
   "cell_type": "code",
   "execution_count": null,
   "metadata": {
    "id": "L-BdVQradqFG"
   },
   "outputs": [],
   "source": [
    "from pydrive.auth import GoogleAuth\n",
    "from pydrive.drive import GoogleDrive\n",
    "from google.colab import auth\n",
    "from oauth2client.client import GoogleCredentials"
   ]
  },
  {
   "cell_type": "code",
   "execution_count": null,
   "metadata": {
    "id": "JtLGlIVFdsDU"
   },
   "outputs": [],
   "source": [
    "auth.authenticate_user()\n",
    "gauth = GoogleAuth()\n",
    "gauth.credentials = GoogleCredentials.get_application_default()\n",
    "drive = GoogleDrive(gauth)"
   ]
  },
  {
   "cell_type": "code",
   "execution_count": null,
   "metadata": {
    "id": "AiNH36JOdv6T"
   },
   "outputs": [],
   "source": [
    "fileDownloaded = drive.CreateFile({'id':'1WPo4J9wi0bIXl2I5da_UYc1UqV8q_iRw'})\n",
    "fileDownloaded.GetContentFile('data_init.csv')"
   ]
  },
  {
   "cell_type": "code",
   "execution_count": 37,
   "metadata": {
    "colab": {
     "base_uri": "https://localhost:8080/"
    },
    "id": "6VyyhflrdyI6",
    "outputId": "38227344-112a-45dd-d8c7-d4173663ed5b"
   },
   "outputs": [
    {
     "data": {
      "text/plain": [
       "{'encoding': 'Windows-1254',\n",
       " 'confidence': 0.4445340489203496,\n",
       " 'language': 'Turkish'}"
      ]
     },
     "execution_count": 37,
     "metadata": {},
     "output_type": "execute_result"
    }
   ],
   "source": [
    "with open('data_init.csv', 'rb') as rawdata:\n",
    "    result = chardet.detect(rawdata.read(100000))\n",
    "result"
   ]
  },
  {
   "cell_type": "code",
   "execution_count": 41,
   "metadata": {
    "colab": {
     "base_uri": "https://localhost:8080/"
    },
    "id": "pAC5jrNpd0c0",
    "outputId": "d854bb5b-972e-49d2-94f9-c7c4325ad871"
   },
   "outputs": [],
   "source": [
    "df = pd.read_csv('data_init.csv',encoding='iso-8859-1',error_bad_lines=False, index_col = False)"
   ]
  },
  {
   "cell_type": "code",
   "execution_count": 42,
   "metadata": {
    "colab": {
     "base_uri": "https://localhost:8080/"
    },
    "id": "PzHfPwRsd4EV",
    "outputId": "038afa5d-8a80-45f7-d35f-68ed413766c3"
   },
   "outputs": [
    {
     "name": "stdout",
     "output_type": "stream",
     "text": [
      "<class 'pandas.core.frame.DataFrame'>\n",
      "RangeIndex: 572928 entries, 0 to 572927\n",
      "Data columns (total 13 columns):\n",
      " #   Column                     Non-Null Count   Dtype  \n",
      "---  ------                     --------------   -----  \n",
      " 0   ProductId                  572928 non-null  int64  \n",
      " 1   Manufacturer Account Name  572928 non-null  object \n",
      " 2   Brand/Label                572928 non-null  object \n",
      " 3   IDEA''s Public ID          572928 non-null  int64  \n",
      " 4   UPC Number                 525059 non-null  float64\n",
      " 5   EAN Number                 115523 non-null  float64\n",
      " 6   Catalog Number             572928 non-null  object \n",
      " 7   Invoice Description        572928 non-null  object \n",
      " 8   Catalog Description        387640 non-null  object \n",
      " 9   UNSPSC code                567206 non-null  float64\n",
      " 10  IGCC code                  385015 non-null  float64\n",
      " 11  CMD Category               567195 non-null  object \n",
      " 12  GTIN                       390194 non-null  float64\n",
      "dtypes: float64(5), int64(2), object(6)\n",
      "memory usage: 56.8+ MB\n"
     ]
    }
   ],
   "source": [
    "df.info()"
   ]
  },
  {
   "cell_type": "code",
   "execution_count": 44,
   "metadata": {
    "colab": {
     "base_uri": "https://localhost:8080/"
    },
    "id": "H5Ns_HIRd8td",
    "outputId": "8497025c-11e9-40b9-e014-f804d9a14df2"
   },
   "outputs": [
    {
     "name": "stdout",
     "output_type": "stream",
     "text": [
      "When threthold is 1000 , the total number of CMD categories moved to'other' categories is 2429\n",
      "The total products in 'other' category is 159837\n",
      "Percentage of products that grouped in the 'other' category is 28.18 %\n"
     ]
    }
   ],
   "source": [
    "cmd_count = df['CMD Category'].value_counts()\n",
    "df['CMD_COUNT'] = df['CMD Category'].map(df['CMD Category'].value_counts())\n",
    "cmd_count\n",
    "threthold = 1000\n",
    "others_count = cmd_count[cmd_count <=threthold ].count()\n",
    "others_sum = cmd_count[cmd_count <= threthold].sum()\n",
    "total = cmd_count.sum()\n",
    "other_pct = others_sum/total*100\n",
    "print(\"When threthold is\", threthold, \", the total number of CMD categories moved to'other' categories is\", others_count)\n",
    "print(\"The total products in 'other' category is\", others_sum)\n",
    "print(\"Percentage of products that grouped in the 'other' category is\", f'{other_pct:.2f}',\"%\")"
   ]
  },
  {
   "cell_type": "code",
   "execution_count": 45,
   "metadata": {
    "id": "uG_K_D4qd_um"
   },
   "outputs": [],
   "source": [
    "df.loc[df[\"CMD_COUNT\"] <= 1000, \"CMD Category\"] = \"Other\""
   ]
  },
  {
   "cell_type": "code",
   "execution_count": 46,
   "metadata": {
    "colab": {
     "base_uri": "https://localhost:8080/"
    },
    "id": "OoFDcyZXeBrT",
    "outputId": "22bd8199-bdc8-45d6-e4da-ef6813814c84"
   },
   "outputs": [
    {
     "data": {
      "text/plain": [
       "Other                                                  159837\n",
       "Cable tray fitting and accessories                      21095\n",
       "Circuit breakers                                        17929\n",
       "Molded case circuit breakers                            17075\n",
       "Electrical equipment maintenance and repair service     13541\n",
       "                                                        ...  \n",
       "Circular connectors                                      1041\n",
       "Incandescent lamps                                       1034\n",
       "Cartridge fuses                                          1029\n",
       "Remote lighting fixture                                  1024\n",
       "Midget fuses                                             1016\n",
       "Name: CMD Category, Length: 130, dtype: int64"
      ]
     },
     "execution_count": 46,
     "metadata": {},
     "output_type": "execute_result"
    }
   ],
   "source": [
    "cmd_count = df['CMD Category'].value_counts()\n",
    "cmd_count"
   ]
  },
  {
   "cell_type": "code",
   "execution_count": 50,
   "metadata": {
    "id": "AWOoLMLJeD6Z"
   },
   "outputs": [],
   "source": [
    "df = df[df['CMD Category']!= 'Other']\n",
    "df_test = df.sample(n=10000)"
   ]
  },
  {
   "cell_type": "code",
   "execution_count": 53,
   "metadata": {
    "id": "VpLlZbIueNyy"
   },
   "outputs": [],
   "source": [
    "sentences = df_test['Invoice Description']\n",
    "y = df_test['CMD Category']\n",
    "sentences_train, sentences_test, train_y, test_y = train_test_split(sentences, y, test_size=0.3, random_state=42)"
   ]
  },
  {
   "cell_type": "code",
   "execution_count": 54,
   "metadata": {
    "colab": {
     "base_uri": "https://localhost:8080/"
    },
    "id": "-4dLNfLwe3qG",
    "outputId": "201d9ec0-fbd9-421f-b773-043d3ae638c8"
   },
   "outputs": [
    {
     "name": "stdout",
     "output_type": "stream",
     "text": [
      "(7000,)\n",
      "(3000,)\n",
      "(7000,)\n",
      "(3000,)\n"
     ]
    }
   ],
   "source": [
    "print(sentences_train.shape)\n",
    "print(sentences_test.shape)\n",
    "print(train_y.shape)\n",
    "print(test_y.shape)"
   ]
  },
  {
   "cell_type": "code",
   "execution_count": 55,
   "metadata": {
    "id": "r2h5UdB0eiMJ"
   },
   "outputs": [],
   "source": [
    "tokenize = Tokenizer(num_words=1000)\n",
    "tokenize.fit_on_texts(sentences_train)\n"
   ]
  },
  {
   "cell_type": "code",
   "execution_count": 56,
   "metadata": {
    "id": "TmXC2b6FfF23"
   },
   "outputs": [],
   "source": [
    "X_train = tokenize.texts_to_sequences(sentences_train)\n",
    "X_test = tokenize.texts_to_sequences(sentences_test)"
   ]
  },
  {
   "cell_type": "code",
   "execution_count": 57,
   "metadata": {
    "id": "kxZCdK5lfKQ9"
   },
   "outputs": [],
   "source": [
    "vocab_size = len(tokenize.word_index) + 1"
   ]
  },
  {
   "cell_type": "code",
   "execution_count": 58,
   "metadata": {
    "colab": {
     "base_uri": "https://localhost:8080/"
    },
    "id": "2jerE-uVfYSd",
    "outputId": "386a2fe3-52c1-424e-d055-6993d649a6e6"
   },
   "outputs": [
    {
     "name": "stdout",
     "output_type": "stream",
     "text": [
      "[ 33   9 260  85 284 330   0   0   0   0   0   0   0   0   0   0   0   0\n",
      "   0   0   0   0   0   0   0   0   0   0   0   0   0   0   0   0   0   0\n",
      "   0   0   0   0   0   0   0   0   0   0   0   0   0   0   0   0   0   0\n",
      "   0   0   0   0   0   0   0   0   0   0   0   0   0   0   0   0   0   0\n",
      "   0   0   0   0   0   0   0   0   0   0   0   0   0   0   0   0   0   0\n",
      "   0   0   0   0   0   0   0   0   0   0]\n"
     ]
    }
   ],
   "source": [
    "maxlen = 100\n",
    "\n",
    "X_train = pad_sequences(X_train, padding='post', maxlen=maxlen)\n",
    "X_test = pad_sequences(X_test, padding='post', maxlen=maxlen)\n",
    "\n",
    "print(X_train[0, :])\n"
   ]
  },
  {
   "cell_type": "code",
   "execution_count": 59,
   "metadata": {
    "id": "O2hwa1u1gIyp"
   },
   "outputs": [],
   "source": [
    "train_y = train_y.astype('str')\n",
    "test_y = test_y.astype('str')\n",
    "\n",
    "encoder = LabelEncoder()\n",
    "encoder.fit(train_y)\n",
    "y_train = encoder.transform(train_y)\n",
    "y_test = encoder.transform(test_y)\n",
    "\n",
    "num_classes = np.max(y_train) + 1\n",
    "y_train = np_utils.to_categorical(y_train, num_classes)\n",
    "y_test = np_utils.to_categorical(y_test, num_classes)"
   ]
  },
  {
   "cell_type": "code",
   "execution_count": 60,
   "metadata": {},
   "outputs": [],
   "source": [
    "from keras import backend as K\n",
    "\n",
    "def recall_m(y_true, y_pred):\n",
    "    true_positives = K.sum(K.round(K.clip(y_true * y_pred, 0, 1)))\n",
    "    possible_positives = K.sum(K.round(K.clip(y_true, 0, 1)))\n",
    "    recall = true_positives / (possible_positives + K.epsilon())\n",
    "    return recall\n",
    "\n",
    "def precision_m(y_true, y_pred):\n",
    "    true_positives = K.sum(K.round(K.clip(y_true * y_pred, 0, 1)))\n",
    "    predicted_positives = K.sum(K.round(K.clip(y_pred, 0, 1)))\n",
    "    precision = true_positives / (predicted_positives + K.epsilon())\n",
    "    return precision\n",
    "\n",
    "def f1_m(y_true, y_pred):\n",
    "    precision = precision_m(y_true, y_pred)\n",
    "    recall = recall_m(y_true, y_pred)\n",
    "    return 2*((precision*recall)/(precision+recall+K.epsilon()))"
   ]
  },
  {
   "cell_type": "code",
   "execution_count": 70,
   "metadata": {
    "colab": {
     "base_uri": "https://localhost:8080/"
    },
    "id": "5W3_VcfngoPm",
    "outputId": "238a3bc5-4eb7-497d-c193-caac6f6bb9fd"
   },
   "outputs": [
    {
     "name": "stdout",
     "output_type": "stream",
     "text": [
      "Model: \"sequential_13\"\n",
      "_________________________________________________________________\n",
      " Layer (type)                Output Shape              Param #   \n",
      "=================================================================\n",
      " embedding_13 (Embedding)    (None, 100, 16)           131472    \n",
      "                                                                 \n",
      " flatten_4 (Flatten)         (None, 1600)              0         \n",
      "                                                                 \n",
      " dense_22 (Dense)            (None, 128)               204928    \n",
      "                                                                 \n",
      " dense_23 (Dense)            (None, 130)               16770     \n",
      "                                                                 \n",
      "=================================================================\n",
      "Total params: 353,170\n",
      "Trainable params: 353,170\n",
      "Non-trainable params: 0\n",
      "_________________________________________________________________\n"
     ]
    }
   ],
   "source": [
    "embedding_dim = 16\n",
    "\n",
    "model = Sequential()\n",
    "model.add(Embedding(input_dim=vocab_size, output_dim=embedding_dim, input_length=maxlen))\n",
    "model.add(Flatten())\n",
    "model.add(Dense(128, activation='relu'))\n",
    "model.add(Dense(130, activation='softmax'))\n",
    "\n",
    "model.compile(optimizer='adam',\n",
    "              loss='categorical_crossentropy',\n",
    "              metrics=['accuracy',f1_m])\n",
    "model.summary()"
   ]
  },
  {
   "cell_type": "code",
   "execution_count": 71,
   "metadata": {
    "colab": {
     "base_uri": "https://localhost:8080/",
     "height": 533
    },
    "id": "re_PN7DzhHmt",
    "outputId": "55dc7086-6255-4206-8103-fae596f89297"
   },
   "outputs": [
    {
     "name": "stdout",
     "output_type": "stream",
     "text": [
      "You must install pydot (`pip install pydot`) and install graphviz (see instructions at https://graphviz.gitlab.io/download/) for plot_model/model_to_dot to work.\n"
     ]
    }
   ],
   "source": [
    "from keras.utils.vis_utils import plot_model\n",
    "plot_model(model, to_file='model_1.png', show_shapes=True, show_layer_names=True)"
   ]
  },
  {
   "cell_type": "code",
   "execution_count": 72,
   "metadata": {},
   "outputs": [
    {
     "name": "stdout",
     "output_type": "stream",
     "text": [
      "Requirement already satisfied: pydot in /Users/haibilu/opt/anaconda3/lib/python3.8/site-packages (1.4.2)\n",
      "Requirement already satisfied: pyparsing>=2.1.4 in /Users/haibilu/opt/anaconda3/lib/python3.8/site-packages (from pydot) (2.4.7)\n",
      "\u001b[33mWARNING: You are using pip version 21.3.1; however, version 22.3.1 is available.\n",
      "You should consider upgrading via the '/Users/haibilu/opt/anaconda3/bin/python -m pip install --upgrade pip' command.\u001b[0m\n"
     ]
    }
   ],
   "source": [
    "!pip install pydot"
   ]
  },
  {
   "cell_type": "code",
   "execution_count": 73,
   "metadata": {
    "colab": {
     "base_uri": "https://localhost:8080/"
    },
    "id": "fNesgl53hJHA",
    "outputId": "213bc643-f1ad-4132-a6be-317bd7b9f3e7"
   },
   "outputs": [
    {
     "name": "stdout",
     "output_type": "stream",
     "text": [
      "Epoch 1/30\n",
      "219/219 [==============================] - 1s 3ms/step - loss: 4.4815 - accuracy: 0.0763 - f1_m: 0.0052 - val_loss: 4.1704 - val_accuracy: 0.1520 - val_f1_m: 0.0210\n",
      "Epoch 2/30\n",
      "219/219 [==============================] - 1s 2ms/step - loss: 3.7872 - accuracy: 0.2044 - f1_m: 0.1328 - val_loss: 3.5169 - val_accuracy: 0.2360 - val_f1_m: 0.1517\n",
      "Epoch 3/30\n",
      "219/219 [==============================] - 1s 3ms/step - loss: 3.1362 - accuracy: 0.3336 - f1_m: 0.2774 - val_loss: 2.9671 - val_accuracy: 0.3737 - val_f1_m: 0.3114\n",
      "Epoch 4/30\n",
      "219/219 [==============================] - 1s 2ms/step - loss: 2.5822 - accuracy: 0.4363 - f1_m: 0.3989 - val_loss: 2.6054 - val_accuracy: 0.4193 - val_f1_m: 0.3974\n",
      "Epoch 5/30\n",
      "219/219 [==============================] - 1s 3ms/step - loss: 2.1919 - accuracy: 0.5031 - f1_m: 0.4721 - val_loss: 2.3797 - val_accuracy: 0.4540 - val_f1_m: 0.4533\n",
      "Epoch 6/30\n",
      "219/219 [==============================] - 1s 2ms/step - loss: 1.9341 - accuracy: 0.5477 - f1_m: 0.5347 - val_loss: 2.1992 - val_accuracy: 0.4997 - val_f1_m: 0.4965\n",
      "Epoch 7/30\n",
      "219/219 [==============================] - 1s 2ms/step - loss: 1.7416 - accuracy: 0.5816 - f1_m: 0.5771 - val_loss: 2.1157 - val_accuracy: 0.5030 - val_f1_m: 0.5192\n",
      "Epoch 8/30\n",
      "219/219 [==============================] - 1s 2ms/step - loss: 1.5958 - accuracy: 0.6147 - f1_m: 0.6063 - val_loss: 2.0481 - val_accuracy: 0.5200 - val_f1_m: 0.5364\n",
      "Epoch 9/30\n",
      "219/219 [==============================] - 1s 2ms/step - loss: 1.4780 - accuracy: 0.6403 - f1_m: 0.6326 - val_loss: 2.0542 - val_accuracy: 0.5237 - val_f1_m: 0.5511\n",
      "Epoch 10/30\n",
      "219/219 [==============================] - 1s 2ms/step - loss: 1.3856 - accuracy: 0.6574 - f1_m: 0.6525 - val_loss: 1.9840 - val_accuracy: 0.5390 - val_f1_m: 0.5673\n",
      "Epoch 11/30\n",
      "219/219 [==============================] - 1s 2ms/step - loss: 1.2909 - accuracy: 0.6759 - f1_m: 0.6718 - val_loss: 1.9721 - val_accuracy: 0.5390 - val_f1_m: 0.5675\n",
      "Epoch 12/30\n",
      "219/219 [==============================] - 1s 2ms/step - loss: 1.2187 - accuracy: 0.6910 - f1_m: 0.6892 - val_loss: 1.9640 - val_accuracy: 0.5473 - val_f1_m: 0.5818\n",
      "Epoch 13/30\n",
      "219/219 [==============================] - 0s 2ms/step - loss: 1.1466 - accuracy: 0.7111 - f1_m: 0.7057 - val_loss: 1.9577 - val_accuracy: 0.5463 - val_f1_m: 0.5767\n",
      "Epoch 14/30\n",
      "219/219 [==============================] - 1s 2ms/step - loss: 1.0832 - accuracy: 0.7203 - f1_m: 0.7180 - val_loss: 1.9621 - val_accuracy: 0.5563 - val_f1_m: 0.5892\n",
      "Epoch 15/30\n",
      "219/219 [==============================] - 1s 2ms/step - loss: 1.0227 - accuracy: 0.7381 - f1_m: 0.7343 - val_loss: 1.9739 - val_accuracy: 0.5553 - val_f1_m: 0.5888\n",
      "Epoch 16/30\n",
      "219/219 [==============================] - 1s 2ms/step - loss: 0.9679 - accuracy: 0.7519 - f1_m: 0.7467 - val_loss: 1.9733 - val_accuracy: 0.5633 - val_f1_m: 0.5916\n",
      "Epoch 17/30\n",
      "219/219 [==============================] - 1s 2ms/step - loss: 0.9099 - accuracy: 0.7720 - f1_m: 0.7633 - val_loss: 1.9942 - val_accuracy: 0.5587 - val_f1_m: 0.5950\n",
      "Epoch 18/30\n",
      "219/219 [==============================] - 1s 2ms/step - loss: 0.8668 - accuracy: 0.7804 - f1_m: 0.7726 - val_loss: 2.0550 - val_accuracy: 0.5583 - val_f1_m: 0.5949\n",
      "Epoch 19/30\n",
      "219/219 [==============================] - 1s 2ms/step - loss: 0.8198 - accuracy: 0.7889 - f1_m: 0.7835 - val_loss: 2.0434 - val_accuracy: 0.5647 - val_f1_m: 0.5999\n",
      "Epoch 20/30\n",
      "219/219 [==============================] - 1s 2ms/step - loss: 0.7781 - accuracy: 0.8023 - f1_m: 0.7963 - val_loss: 2.0962 - val_accuracy: 0.5540 - val_f1_m: 0.5983\n",
      "Epoch 21/30\n",
      "219/219 [==============================] - 1s 3ms/step - loss: 0.7359 - accuracy: 0.8123 - f1_m: 0.8089 - val_loss: 2.0899 - val_accuracy: 0.5677 - val_f1_m: 0.5989\n",
      "Epoch 22/30\n",
      "219/219 [==============================] - 1s 2ms/step - loss: 0.6985 - accuracy: 0.8223 - f1_m: 0.8203 - val_loss: 2.0933 - val_accuracy: 0.5683 - val_f1_m: 0.6034\n",
      "Epoch 23/30\n",
      "219/219 [==============================] - 1s 2ms/step - loss: 0.6589 - accuracy: 0.8347 - f1_m: 0.8325 - val_loss: 2.1453 - val_accuracy: 0.5627 - val_f1_m: 0.6024\n",
      "Epoch 24/30\n",
      "219/219 [==============================] - 1s 2ms/step - loss: 0.6299 - accuracy: 0.8427 - f1_m: 0.8435 - val_loss: 2.1943 - val_accuracy: 0.5593 - val_f1_m: 0.5978\n",
      "Epoch 25/30\n",
      "219/219 [==============================] - 1s 2ms/step - loss: 0.5941 - accuracy: 0.8529 - f1_m: 0.8519 - val_loss: 2.2161 - val_accuracy: 0.5660 - val_f1_m: 0.5988\n",
      "Epoch 26/30\n",
      "219/219 [==============================] - 1s 2ms/step - loss: 0.5660 - accuracy: 0.8590 - f1_m: 0.8586 - val_loss: 2.2910 - val_accuracy: 0.5597 - val_f1_m: 0.6008\n",
      "Epoch 27/30\n",
      "219/219 [==============================] - 1s 2ms/step - loss: 0.5365 - accuracy: 0.8693 - f1_m: 0.8683 - val_loss: 2.3019 - val_accuracy: 0.5607 - val_f1_m: 0.6051\n",
      "Epoch 28/30\n",
      "219/219 [==============================] - 1s 2ms/step - loss: 0.5119 - accuracy: 0.8753 - f1_m: 0.8765 - val_loss: 2.3268 - val_accuracy: 0.5603 - val_f1_m: 0.5976\n",
      "Epoch 29/30\n",
      "219/219 [==============================] - 1s 2ms/step - loss: 0.4834 - accuracy: 0.8827 - f1_m: 0.8832 - val_loss: 2.3797 - val_accuracy: 0.5620 - val_f1_m: 0.6030\n",
      "Epoch 30/30\n",
      "219/219 [==============================] - 1s 3ms/step - loss: 0.4606 - accuracy: 0.8861 - f1_m: 0.8886 - val_loss: 2.4149 - val_accuracy: 0.5580 - val_f1_m: 0.5923\n"
     ]
    }
   ],
   "source": [
    "history1 = model.fit(X_train, y_train,\n",
    "                    batch_size= 32,\n",
    "                    epochs=30,\n",
    "                    validation_data=(X_test, y_test))"
   ]
  },
  {
   "cell_type": "code",
   "execution_count": 86,
   "metadata": {
    "colab": {
     "base_uri": "https://localhost:8080/"
    },
    "id": "2fqEGxa5vmde",
    "outputId": "e4abbad4-e34e-4439-a54b-873efbf8f526"
   },
   "outputs": [
    {
     "name": "stdout",
     "output_type": "stream",
     "text": [
      "Model: \"sequential_19\"\n",
      "_________________________________________________________________\n",
      " Layer (type)                Output Shape              Param #   \n",
      "=================================================================\n",
      " embedding_19 (Embedding)    (None, 100, 50)           410850    \n",
      "                                                                 \n",
      " global_max_pooling1d_14 (Gl  (None, 50)               0         \n",
      " obalMaxPooling1D)                                               \n",
      "                                                                 \n",
      " dropout_24 (Dropout)        (None, 50)                0         \n",
      "                                                                 \n",
      " dense_34 (Dense)            (None, 192)               9792      \n",
      "                                                                 \n",
      " dropout_25 (Dropout)        (None, 192)               0         \n",
      "                                                                 \n",
      " dense_35 (Dense)            (None, 130)               25090     \n",
      "                                                                 \n",
      "=================================================================\n",
      "Total params: 445,732\n",
      "Trainable params: 445,732\n",
      "Non-trainable params: 0\n",
      "_________________________________________________________________\n"
     ]
    }
   ],
   "source": [
    "embedding_dim = 50\n",
    "\n",
    "model2 = Sequential()\n",
    "model2.add(Embedding(input_dim=vocab_size, output_dim=embedding_dim, input_length=maxlen))\n",
    "model2.add(GlobalMaxPool1D())\n",
    "#model2.add(layers.Flatten())\n",
    "model2.add(Dropout(0.5))\n",
    "model2.add(Dense(192, activation='relu'))\n",
    "model2.add(Dropout(0.5))\n",
    "model2.add(Dense(130, activation='softmax'))\n",
    "\n",
    "model2.compile(optimizer='Adam',\n",
    "               loss='categorical_crossentropy',\n",
    "               metrics=['accuracy',f1_m])\n",
    "\n",
    "model2.summary()"
   ]
  },
  {
   "cell_type": "code",
   "execution_count": 87,
   "metadata": {
    "colab": {
     "base_uri": "https://localhost:8080/",
     "height": 754
    },
    "id": "z6bmrTipHbcR",
    "outputId": "cfc99799-71eb-4fe7-ee4e-fd7dbabec278"
   },
   "outputs": [],
   "source": [
    "#plot_model(model2, to_file='model_1.png', show_shapes=True, show_layer_names=True)"
   ]
  },
  {
   "cell_type": "code",
   "execution_count": 88,
   "metadata": {
    "id": "O2rjG4ds1X5j"
   },
   "outputs": [],
   "source": [
    "#!pip install graphviz"
   ]
  },
  {
   "cell_type": "code",
   "execution_count": 89,
   "metadata": {
    "colab": {
     "base_uri": "https://localhost:8080/"
    },
    "id": "-X7hl4Rbv2L5",
    "outputId": "04e78bbe-0e9c-4952-b43f-82f058b1490c"
   },
   "outputs": [
    {
     "name": "stdout",
     "output_type": "stream",
     "text": [
      "Epoch 1/30\n",
      "219/219 [==============================] - 1s 4ms/step - loss: 4.5625 - accuracy: 0.0490 - f1_m: 0.0000e+00 - val_loss: 4.3117 - val_accuracy: 0.0617 - val_f1_m: 0.0000e+00\n",
      "Epoch 2/30\n",
      "219/219 [==============================] - 1s 3ms/step - loss: 4.1280 - accuracy: 0.0986 - f1_m: 0.0297 - val_loss: 3.9171 - val_accuracy: 0.1640 - val_f1_m: 0.0472\n",
      "Epoch 3/30\n",
      "219/219 [==============================] - 1s 3ms/step - loss: 3.7416 - accuracy: 0.1820 - f1_m: 0.1062 - val_loss: 3.4978 - val_accuracy: 0.2873 - val_f1_m: 0.1613\n",
      "Epoch 4/30\n",
      "219/219 [==============================] - 1s 3ms/step - loss: 3.3910 - accuracy: 0.2664 - f1_m: 0.1804 - val_loss: 3.1388 - val_accuracy: 0.3640 - val_f1_m: 0.2092\n",
      "Epoch 5/30\n",
      "219/219 [==============================] - 1s 3ms/step - loss: 3.0878 - accuracy: 0.3299 - f1_m: 0.2463 - val_loss: 2.8663 - val_accuracy: 0.3950 - val_f1_m: 0.3449\n",
      "Epoch 6/30\n",
      "219/219 [==============================] - 1s 3ms/step - loss: 2.8490 - accuracy: 0.3521 - f1_m: 0.3026 - val_loss: 2.6599 - val_accuracy: 0.4220 - val_f1_m: 0.3951\n",
      "Epoch 7/30\n",
      "219/219 [==============================] - 1s 3ms/step - loss: 2.6711 - accuracy: 0.3861 - f1_m: 0.3316 - val_loss: 2.4962 - val_accuracy: 0.4517 - val_f1_m: 0.4071\n",
      "Epoch 8/30\n",
      "219/219 [==============================] - 1s 3ms/step - loss: 2.4868 - accuracy: 0.4151 - f1_m: 0.3673 - val_loss: 2.3575 - val_accuracy: 0.4690 - val_f1_m: 0.4399\n",
      "Epoch 9/30\n",
      "219/219 [==============================] - 1s 3ms/step - loss: 2.3494 - accuracy: 0.4366 - f1_m: 0.3971 - val_loss: 2.2411 - val_accuracy: 0.4907 - val_f1_m: 0.4517\n",
      "Epoch 10/30\n",
      "219/219 [==============================] - 1s 3ms/step - loss: 2.2434 - accuracy: 0.4514 - f1_m: 0.4195 - val_loss: 2.1494 - val_accuracy: 0.5033 - val_f1_m: 0.4844\n",
      "Epoch 11/30\n",
      "219/219 [==============================] - 1s 3ms/step - loss: 2.1195 - accuracy: 0.4766 - f1_m: 0.4415 - val_loss: 2.0778 - val_accuracy: 0.5180 - val_f1_m: 0.5009\n",
      "Epoch 12/30\n",
      "219/219 [==============================] - 1s 3ms/step - loss: 2.0198 - accuracy: 0.4931 - f1_m: 0.4674 - val_loss: 2.0099 - val_accuracy: 0.5240 - val_f1_m: 0.5221\n",
      "Epoch 13/30\n",
      "219/219 [==============================] - 1s 3ms/step - loss: 1.9470 - accuracy: 0.5054 - f1_m: 0.4817 - val_loss: 1.9578 - val_accuracy: 0.5363 - val_f1_m: 0.5276\n",
      "Epoch 14/30\n",
      "219/219 [==============================] - 1s 3ms/step - loss: 1.8739 - accuracy: 0.5156 - f1_m: 0.4942 - val_loss: 1.9163 - val_accuracy: 0.5507 - val_f1_m: 0.5324\n",
      "Epoch 15/30\n",
      "219/219 [==============================] - 1s 3ms/step - loss: 1.8159 - accuracy: 0.5303 - f1_m: 0.5027 - val_loss: 1.8849 - val_accuracy: 0.5517 - val_f1_m: 0.5497\n",
      "Epoch 16/30\n",
      "219/219 [==============================] - 1s 3ms/step - loss: 1.7522 - accuracy: 0.5431 - f1_m: 0.5231 - val_loss: 1.8560 - val_accuracy: 0.5560 - val_f1_m: 0.5590\n",
      "Epoch 17/30\n",
      "219/219 [==============================] - 1s 3ms/step - loss: 1.7205 - accuracy: 0.5461 - f1_m: 0.5294 - val_loss: 1.8380 - val_accuracy: 0.5590 - val_f1_m: 0.5673\n",
      "Epoch 18/30\n",
      "219/219 [==============================] - 1s 3ms/step - loss: 1.6728 - accuracy: 0.5607 - f1_m: 0.5355 - val_loss: 1.8147 - val_accuracy: 0.5617 - val_f1_m: 0.5764\n",
      "Epoch 19/30\n",
      "219/219 [==============================] - 1s 3ms/step - loss: 1.6441 - accuracy: 0.5656 - f1_m: 0.5476 - val_loss: 1.8065 - val_accuracy: 0.5663 - val_f1_m: 0.5765\n",
      "Epoch 20/30\n",
      "219/219 [==============================] - 1s 3ms/step - loss: 1.6101 - accuracy: 0.5746 - f1_m: 0.5530 - val_loss: 1.7900 - val_accuracy: 0.5753 - val_f1_m: 0.5853\n",
      "Epoch 21/30\n",
      "219/219 [==============================] - 1s 3ms/step - loss: 1.5727 - accuracy: 0.5816 - f1_m: 0.5691 - val_loss: 1.7824 - val_accuracy: 0.5760 - val_f1_m: 0.5870\n",
      "Epoch 22/30\n",
      "219/219 [==============================] - 1s 3ms/step - loss: 1.5514 - accuracy: 0.5820 - f1_m: 0.5632 - val_loss: 1.7732 - val_accuracy: 0.5830 - val_f1_m: 0.5933\n",
      "Epoch 23/30\n",
      "219/219 [==============================] - 1s 3ms/step - loss: 1.5409 - accuracy: 0.5939 - f1_m: 0.5733 - val_loss: 1.7615 - val_accuracy: 0.5870 - val_f1_m: 0.5971\n",
      "Epoch 24/30\n",
      "219/219 [==============================] - 1s 3ms/step - loss: 1.5061 - accuracy: 0.5999 - f1_m: 0.5840 - val_loss: 1.7548 - val_accuracy: 0.5843 - val_f1_m: 0.6024\n",
      "Epoch 25/30\n",
      "219/219 [==============================] - 1s 3ms/step - loss: 1.4975 - accuracy: 0.6013 - f1_m: 0.5809 - val_loss: 1.7451 - val_accuracy: 0.5903 - val_f1_m: 0.6028\n",
      "Epoch 26/30\n",
      "219/219 [==============================] - 1s 3ms/step - loss: 1.4862 - accuracy: 0.5993 - f1_m: 0.5829 - val_loss: 1.7396 - val_accuracy: 0.5910 - val_f1_m: 0.6060\n",
      "Epoch 27/30\n",
      "219/219 [==============================] - 1s 3ms/step - loss: 1.4385 - accuracy: 0.6104 - f1_m: 0.5936 - val_loss: 1.7447 - val_accuracy: 0.5913 - val_f1_m: 0.6090\n",
      "Epoch 28/30\n",
      "219/219 [==============================] - 1s 3ms/step - loss: 1.4158 - accuracy: 0.6171 - f1_m: 0.6012 - val_loss: 1.7319 - val_accuracy: 0.5957 - val_f1_m: 0.6089\n",
      "Epoch 29/30\n",
      "219/219 [==============================] - 1s 3ms/step - loss: 1.3975 - accuracy: 0.6099 - f1_m: 0.6002 - val_loss: 1.7304 - val_accuracy: 0.5943 - val_f1_m: 0.6137\n",
      "Epoch 30/30\n",
      "219/219 [==============================] - 1s 3ms/step - loss: 1.3968 - accuracy: 0.6163 - f1_m: 0.6061 - val_loss: 1.7333 - val_accuracy: 0.5923 - val_f1_m: 0.6151\n"
     ]
    }
   ],
   "source": [
    "history_2 = model2.fit(X_train, y_train,\n",
    "                       batch_size=32,\n",
    "                       epochs=30,\n",
    "                       validation_data=(X_test, y_test))"
   ]
  },
  {
   "cell_type": "code",
   "execution_count": null,
   "metadata": {
    "colab": {
     "base_uri": "https://localhost:8080/",
     "height": 708
    },
    "id": "fpkgFp_TGSsP",
    "outputId": "4ba7cc66-7202-4ec4-c233-57b9cd46dc54"
   },
   "outputs": [],
   "source": [
    "#keras.utils.plot_model(model2, show_shapes=True, dpi=90)"
   ]
  },
  {
   "cell_type": "code",
   "execution_count": null,
   "metadata": {},
   "outputs": [],
   "source": [
    "#!pip install pydot\n",
    "#!pip install graphviz"
   ]
  },
  {
   "cell_type": "code",
   "execution_count": 90,
   "metadata": {
    "colab": {
     "base_uri": "https://localhost:8080/"
    },
    "id": "M5Yzu69lGVEF",
    "outputId": "6bcf7397-a7dc-409c-a7f1-9e763f2bc6b3"
   },
   "outputs": [
    {
     "name": "stdout",
     "output_type": "stream",
     "text": [
      "Model: \"sequential_20\"\n",
      "_________________________________________________________________\n",
      " Layer (type)                Output Shape              Param #   \n",
      "=================================================================\n",
      " embedding_20 (Embedding)    (None, 100, 100)          821700    \n",
      "                                                                 \n",
      " conv1d_8 (Conv1D)           (None, 96, 128)           64128     \n",
      "                                                                 \n",
      " global_max_pooling1d_15 (Gl  (None, 128)              0         \n",
      " obalMaxPooling1D)                                               \n",
      "                                                                 \n",
      " dropout_26 (Dropout)        (None, 128)               0         \n",
      "                                                                 \n",
      " dense_36 (Dense)            (None, 224)               28896     \n",
      "                                                                 \n",
      " dropout_27 (Dropout)        (None, 224)               0         \n",
      "                                                                 \n",
      " dense_37 (Dense)            (None, 130)               29250     \n",
      "                                                                 \n",
      "=================================================================\n",
      "Total params: 943,974\n",
      "Trainable params: 943,974\n",
      "Non-trainable params: 0\n",
      "_________________________________________________________________\n"
     ]
    }
   ],
   "source": [
    "embedding_dim = 100\n",
    "\n",
    "model3 = Sequential()\n",
    "model3.add(Embedding(input_dim=vocab_size, output_dim=embedding_dim, input_length=maxlen))\n",
    "model3.add(Conv1D(128, 5, activation='relu'))\n",
    "model3.add(GlobalMaxPool1D())\n",
    "model3.add(Dropout(0.5))\n",
    "#model3.add(layers.Flatten())\n",
    "model3.add(Dense(224, activation='relu'))\n",
    "model3.add(Dropout(0.5))\n",
    "model3.add(Dense(130, activation='softmax'))\n",
    "#optimizer = keras.optimizers.Adam(lr=0.00005)\n",
    "model3.compile(optimizer='adam',\n",
    "               loss='categorical_crossentropy',\n",
    "               metrics=['accuracy',f1_m])\n",
    "\n",
    "model3.summary()\n",
    "\n",
    "\n"
   ]
  },
  {
   "cell_type": "code",
   "execution_count": null,
   "metadata": {},
   "outputs": [],
   "source": []
  },
  {
   "cell_type": "code",
   "execution_count": 91,
   "metadata": {
    "colab": {
     "base_uri": "https://localhost:8080/"
    },
    "id": "Et8Y0YG7Ymt4",
    "outputId": "33b92cef-12f3-4068-fc9c-c57784c3dbc0"
   },
   "outputs": [
    {
     "name": "stdout",
     "output_type": "stream",
     "text": [
      "Epoch 1/15\n",
      "438/438 [==============================] - 5s 10ms/step - loss: 4.1077 - accuracy: 0.1311 - f1_m: 0.1005 - val_loss: 3.4527 - val_accuracy: 0.2727 - val_f1_m: 0.2247\n",
      "Epoch 2/15\n",
      "438/438 [==============================] - 4s 10ms/step - loss: 3.1640 - accuracy: 0.3113 - f1_m: 0.3188 - val_loss: 2.8223 - val_accuracy: 0.3953 - val_f1_m: 0.4029\n",
      "Epoch 3/15\n",
      "438/438 [==============================] - 5s 11ms/step - loss: 2.6188 - accuracy: 0.4121 - f1_m: 0.4284 - val_loss: 2.4344 - val_accuracy: 0.4717 - val_f1_m: 0.4783\n",
      "Epoch 4/15\n",
      "438/438 [==============================] - 4s 10ms/step - loss: 2.2345 - accuracy: 0.4696 - f1_m: 0.4906 - val_loss: 2.1824 - val_accuracy: 0.5060 - val_f1_m: 0.5360\n",
      "Epoch 5/15\n",
      "438/438 [==============================] - 4s 10ms/step - loss: 1.9756 - accuracy: 0.5194 - f1_m: 0.5486 - val_loss: 2.0317 - val_accuracy: 0.5210 - val_f1_m: 0.5588\n",
      "Epoch 6/15\n",
      "438/438 [==============================] - 4s 10ms/step - loss: 1.7916 - accuracy: 0.5517 - f1_m: 0.5768 - val_loss: 1.9453 - val_accuracy: 0.5433 - val_f1_m: 0.5763\n",
      "Epoch 7/15\n",
      "438/438 [==============================] - 4s 10ms/step - loss: 1.6106 - accuracy: 0.5844 - f1_m: 0.6066 - val_loss: 1.8664 - val_accuracy: 0.5613 - val_f1_m: 0.5928\n",
      "Epoch 8/15\n",
      "438/438 [==============================] - 5s 10ms/step - loss: 1.4985 - accuracy: 0.6007 - f1_m: 0.6255 - val_loss: 1.8258 - val_accuracy: 0.5743 - val_f1_m: 0.6030\n",
      "Epoch 9/15\n",
      "438/438 [==============================] - 5s 11ms/step - loss: 1.4082 - accuracy: 0.6266 - f1_m: 0.6490 - val_loss: 1.8037 - val_accuracy: 0.5780 - val_f1_m: 0.6053\n",
      "Epoch 10/15\n",
      "438/438 [==============================] - 5s 11ms/step - loss: 1.3202 - accuracy: 0.6383 - f1_m: 0.6636 - val_loss: 1.8167 - val_accuracy: 0.5807 - val_f1_m: 0.6108\n",
      "Epoch 11/15\n",
      "438/438 [==============================] - 4s 10ms/step - loss: 1.2545 - accuracy: 0.6520 - f1_m: 0.6746 - val_loss: 1.7936 - val_accuracy: 0.5843 - val_f1_m: 0.6158\n",
      "Epoch 12/15\n",
      "438/438 [==============================] - 4s 10ms/step - loss: 1.1826 - accuracy: 0.6740 - f1_m: 0.6888 - val_loss: 1.8003 - val_accuracy: 0.5920 - val_f1_m: 0.6330\n",
      "Epoch 13/15\n",
      "438/438 [==============================] - 5s 11ms/step - loss: 1.1249 - accuracy: 0.6846 - f1_m: 0.6980 - val_loss: 1.8221 - val_accuracy: 0.5913 - val_f1_m: 0.6216\n",
      "Epoch 14/15\n",
      "438/438 [==============================] - 4s 10ms/step - loss: 1.0668 - accuracy: 0.7031 - f1_m: 0.7171 - val_loss: 1.8677 - val_accuracy: 0.5957 - val_f1_m: 0.6316\n",
      "Epoch 15/15\n",
      "438/438 [==============================] - 4s 10ms/step - loss: 1.0574 - accuracy: 0.7064 - f1_m: 0.7178 - val_loss: 1.8778 - val_accuracy: 0.5993 - val_f1_m: 0.6320\n"
     ]
    }
   ],
   "source": [
    "history3 = model3.fit(X_train, y_train,\n",
    "                       batch_size=16,\n",
    "                       epochs=15,\n",
    "                       validation_data=(X_test, y_test))"
   ]
  },
  {
   "cell_type": "code",
   "execution_count": 92,
   "metadata": {
    "colab": {
     "base_uri": "https://localhost:8080/",
     "height": 635
    },
    "id": "3Aq738-RY53V",
    "outputId": "a4a6d4c1-864e-4669-e4ee-82e721fed954"
   },
   "outputs": [
    {
     "data": {
      "image/png": "[encoded data removed]",
      "text/plain": [
       "<Figure size 1332x756 with 6 Axes>"
      ]
     },
     "metadata": {
      "needs_background": "light"
     },
     "output_type": "display_data"
    }
   ],
   "source": [
    "def make_plot(axs,\n",
    "              model_history1, \n",
    "              model_history2,\n",
    "              model_history3,\n",
    "              model_1_name='NN',\n",
    "              model_2_name='NN With Regulation',\n",
    "              model_3_name='CNN'\n",
    "              ):\n",
    "    box = dict(facecolor='yellow', pad=5, alpha=0.2)\n",
    "\n",
    "    for i, metric in enumerate(['loss', 'accuracy']):\n",
    "        y_lim_lower1 = np.min(model_history1.history[metric])\n",
    "        y_lim_lower2 = np.min(model_history2.history[metric])\n",
    "        y_lim_lower3 = np.min(model_history3.history[metric])\n",
    "        y_lim_lower = min(y_lim_lower1, y_lim_lower2) * 0.6\n",
    "\n",
    "        y_lim_upper1 = np.max(model_history1.history[metric])\n",
    "        y_lim_upper2 = np.max(model_history2.history[metric])\n",
    "        y_lim_upper3 = np.max(model_history2.history[metric])\n",
    "        y_lim_upper = max(y_lim_upper1, y_lim_upper2) * 1.25\n",
    "\n",
    "        for j, model_history in enumerate([model_history1, model_history2, model_history3]):\n",
    "            model_name = [model_1_name, model_2_name, model_3_name][j]\n",
    "            ax1 = axs[i, j]\n",
    "            ax1.plot(model_history.history[metric])\n",
    "            ax1.plot(model_history.history['val_%s' % metric])\n",
    "            ax1.set_title('%s - %s' % (metric, model_name))\n",
    "            ax1.set_ylabel(metric, bbox=box)\n",
    "            ax1.set_ylim(y_lim_lower, y_lim_upper)\n",
    "\n",
    "fig, axs = plt.subplots(2, 3)\n",
    "\n",
    "make_plot(axs,\n",
    "          history1,\n",
    "          history_2,\n",
    "          history3,\n",
    "          model_1_name='NN',\n",
    "          model_2_name='NN With Regulation',\n",
    "          model_3_name='CNN',\n",
    "          )\n",
    "\n",
    "\n",
    "fig.align_ylabels(axs[:, 1])\n",
    "fig.set_size_inches(18.5, 10.5)\n",
    "plt.show()"
   ]
  },
  {
   "cell_type": "code",
   "execution_count": null,
   "metadata": {
    "id": "NFpXxidGtuny"
   },
   "outputs": [],
   "source": [
    "!pip install keras-tuner --upgrade\n",
    "\n"
   ]
  },
  {
   "cell_type": "code",
   "execution_count": null,
   "metadata": {
    "id": "Yv4cyaWqt5nD"
   },
   "outputs": [],
   "source": [
    "from tensorflow import keras\n",
    "from tensorflow.keras import layers"
   ]
  },
  {
   "cell_type": "code",
   "execution_count": null,
   "metadata": {
    "colab": {
     "base_uri": "https://localhost:8080/"
    },
    "id": "AmnOnDBXucOY",
    "outputId": "840ac273-9bdd-4e74-d8a2-67f60c90d0ea"
   },
   "outputs": [],
   "source": [
    "import keras_tuner\n",
    "build_model(keras_tuner.HyperParameters())"
   ]
  },
  {
   "cell_type": "code",
   "execution_count": null,
   "metadata": {
    "colab": {
     "base_uri": "https://localhost:8080/"
    },
    "id": "93GhIFEzulnj",
    "outputId": "87c043e6-b02c-4478-fa08-360f9fec877c"
   },
   "outputs": [],
   "source": [
    "hp = keras_tuner.HyperParameters()\n",
    "print(hp.Int(\"units\", min_value=32, max_value=512, step=32))"
   ]
  },
  {
   "cell_type": "code",
   "execution_count": null,
   "metadata": {
    "colab": {
     "base_uri": "https://localhost:8080/"
    },
    "id": "nTtpGG9NuzsV",
    "outputId": "65a62461-805a-466e-c756-03ddee709b4a"
   },
   "outputs": [],
   "source": [
    "def build_model(hp):\n",
    "    model = keras.Sequential()\n",
    "    model.add(Embedding(input_dim=vocab_size, output_dim=embedding_dim, input_length=maxlen))\n",
    "    model.add(GlobalMaxPool1D())\n",
    "    model.add(layers.Flatten())\n",
    "    # Tune the number of layers.\n",
    "    for i in range(hp.Int(\"num_layers\", 1, 3)):\n",
    "        model.add(\n",
    "            layers.Dense(\n",
    "                # Tune number of units separately.\n",
    "                units=hp.Int(f\"units_{i}\", min_value=32, max_value=512, step=32),\n",
    "                activation=hp.Choice(\"activation\", [\"relu\", \"tanh\"]),\n",
    "            )\n",
    "        )\n",
    "    if hp.Boolean(\"dropout\"):\n",
    "        model.add(layers.Dropout(rate=0.5))\n",
    "    model.add(layers.Dense(42, activation=\"softmax\"))\n",
    "    learning_rate = hp.Float(\"lr\", min_value=1e-5, max_value=1e-2, sampling=\"log\")\n",
    "    model.compile(\n",
    "        optimizer=keras.optimizers.Adam(learning_rate=learning_rate),\n",
    "        loss=\"categorical_crossentropy\",\n",
    "        metrics=[\"accuracy\"],\n",
    "    )\n",
    "    return model\n",
    "\n",
    "\n",
    "build_model(keras_tuner.HyperParameters())"
   ]
  },
  {
   "cell_type": "code",
   "execution_count": null,
   "metadata": {
    "id": "eNmc_yUzu5Za"
   },
   "outputs": [],
   "source": [
    "tuner = keras_tuner.RandomSearch(\n",
    "    hypermodel=build_model,\n",
    "    objective=\"val_accuracy\",\n",
    "    max_trials=10,\n",
    "    executions_per_trial=2,\n",
    "    overwrite=True,\n",
    "    directory=\"my_dir\",\n",
    "    project_name=\"helloworld\",\n",
    ")"
   ]
  },
  {
   "cell_type": "code",
   "execution_count": null,
   "metadata": {
    "colab": {
     "base_uri": "https://localhost:8080/"
    },
    "id": "wn6OBUiMu-t4",
    "outputId": "6fcf2605-e4a8-4281-cfa5-834a80d37ace"
   },
   "outputs": [],
   "source": [
    "tuner.search_space_summary()"
   ]
  },
  {
   "cell_type": "code",
   "execution_count": null,
   "metadata": {
    "colab": {
     "base_uri": "https://localhost:8080/"
    },
    "id": "4mzd1XXMv_sT",
    "outputId": "998fe714-ab26-4c3f-e279-37408e66da70"
   },
   "outputs": [],
   "source": [
    "tuner.search(X_train, y_train, epochs=50, validation_data=(X_test, y_test))"
   ]
  },
  {
   "cell_type": "code",
   "execution_count": null,
   "metadata": {},
   "outputs": [],
   "source": [
    "encoder = LabelEncoder()\n",
    "encoder.fit(y_train)"
   ]
  },
  {
   "cell_type": "code",
   "execution_count": null,
   "metadata": {},
   "outputs": [],
   "source": []
  }
 ],
 "metadata": {
  "colab": {
   "provenance": []
  },
  "kernelspec": {
   "display_name": "Python 3",
   "language": "python",
   "name": "python3"
  },
  "language_info": {
   "codemirror_mode": {
    "name": "ipython",
    "version": 3
   },
   "file_extension": ".py",
   "mimetype": "text/x-python",
   "name": "python",
   "nbconvert_exporter": "python",
   "pygments_lexer": "ipython3",
   "version": "3.8.5"
  }
 },
 "nbformat": 4,
 "nbformat_minor": 4
}
