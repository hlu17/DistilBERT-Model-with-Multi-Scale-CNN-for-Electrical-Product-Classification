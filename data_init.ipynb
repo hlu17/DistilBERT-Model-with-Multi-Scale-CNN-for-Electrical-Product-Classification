{
  "cells": [
    {
      "cell_type": "code",
      "execution_count": 10,
      "metadata": {
        "id": "9Jqbc-c5I3Ue"
      },
      "outputs": [],
      "source": [
        "import pandas as pd\n",
        "import numpy as ny\n",
        "import os\n",
        "import chardet\n",
        "import matplotlib.pyplot as plt"
      ]
    },
    {
      "cell_type": "code",
      "source": [
        "!pip install -U -q PyDrive"
      ],
      "metadata": {
        "id": "l-bLawTk8AWw"
      },
      "execution_count": 1,
      "outputs": []
    },
    {
      "cell_type": "markdown",
      "source": [],
      "metadata": {
        "id": "TI_CBI9qxzDX"
      }
    },
    {
      "cell_type": "code",
      "source": [
        "from pydrive.auth import GoogleAuth\n",
        "from pydrive.drive import GoogleDrive\n",
        "from google.colab import auth\n",
        "from oauth2client.client import GoogleCredentials"
      ],
      "metadata": {
        "id": "9ObtFxntxz08"
      },
      "execution_count": 2,
      "outputs": []
    },
    {
      "cell_type": "code",
      "source": [
        "auth.authenticate_user()\n",
        "gauth = GoogleAuth()\n",
        "gauth.credentials = GoogleCredentials.get_application_default()\n",
        "drive = GoogleDrive(gauth)"
      ],
      "metadata": {
        "id": "q19R8o0Px2h4"
      },
      "execution_count": 14,
      "outputs": []
    },
    {
      "cell_type": "code",
      "source": [
        "fileDownloaded = drive.CreateFile({'id':'1WPo4J9wi0bIXl2I5da_UYc1UqV8q_iRw'})"
      ],
      "metadata": {
        "id": "YZBmLG7PyVJG"
      },
      "execution_count": 6,
      "outputs": []
    },
    {
      "cell_type": "code",
      "source": [
        "fileDownloaded.GetContentFile('data_init.csv')"
      ],
      "metadata": {
        "id": "dW-Wquxzy3cw"
      },
      "execution_count": 8,
      "outputs": []
    },
    {
      "cell_type": "code",
      "execution_count": 11,
      "metadata": {
        "colab": {
          "base_uri": "https://localhost:8080/"
        },
        "id": "ZRHku4qoI3Uf",
        "outputId": "3827adc4-9cb6-42e9-d0bf-e3cc4ca9f13d"
      },
      "outputs": [
        {
          "output_type": "execute_result",
          "data": {
            "text/plain": [
              "{'encoding': 'Windows-1254',\n",
              " 'confidence': 0.4445340489203496,\n",
              " 'language': 'Turkish'}"
            ]
          },
          "metadata": {},
          "execution_count": 11
        }
      ],
      "source": [
        "with open('data_init.csv', 'rb') as rawdata:\n",
        "    result = chardet.detect(rawdata.read(100000))\n",
        "result"
      ]
    },
    {
      "cell_type": "code",
      "execution_count": 12,
      "metadata": {
        "id": "SPGAlv9DI3Ug",
        "colab": {
          "base_uri": "https://localhost:8080/"
        },
        "outputId": "2245a5c5-b5ab-40f1-f414-cab68c052356"
      },
      "outputs": [
        {
          "output_type": "stream",
          "name": "stderr",
          "text": [
            "/usr/local/lib/python3.7/dist-packages/IPython/core/interactiveshell.py:3326: FutureWarning: The error_bad_lines argument has been deprecated and will be removed in a future version.\n",
            "\n",
            "\n",
            "  exec(code_obj, self.user_global_ns, self.user_ns)\n"
          ]
        }
      ],
      "source": [
        "data_init = pd.read_csv('data_init.csv',encoding='iso-8859-1',error_bad_lines=False, index_col = False)"
      ]
    },
    {
      "cell_type": "code",
      "execution_count": 13,
      "metadata": {
        "colab": {
          "base_uri": "https://localhost:8080/",
          "height": 598
        },
        "id": "lDR0kEtNI3Ug",
        "outputId": "f345a9dd-334e-43bb-b619-51f0b3eb01d2"
      },
      "outputs": [
        {
          "output_type": "execute_result",
          "data": {
            "text/plain": [
              "   ProductId             Manufacturer Account Name  \\\n",
              "0          1                   Rockwell Automation   \n",
              "1          2                                 Eaton   \n",
              "2          3                Stanley Black & Decker   \n",
              "3          4  ABB - Installation Products - Canada   \n",
              "4          5                        Legrand-Canada   \n",
              "5          6                      Legrand-Wiremold   \n",
              "6          7                               Siemens   \n",
              "7          8                    Lutron Electronics   \n",
              "8          9  ABB - Installation Products - Canada   \n",
              "9         10                               Leviton   \n",
              "\n",
              "                   Brand/Label  IDEA''s Public ID    UPC Number  EAN Number  \\\n",
              "0                Allen-Bradley              11994  8.210000e+11         NaN   \n",
              "1                        Eaton              10964  7.870000e+11         NaN   \n",
              "2                        PROTO              12779  6.630000e+11         NaN   \n",
              "3       Lumacell / Lightalarms              11316  6.250000e+11         NaN   \n",
              "4  Legrand - Wiremold (Canada)              14054  7.870000e+11         NaN   \n",
              "5             Legrand-Wiremold              11311  7.870000e+11         NaN   \n",
              "6                      Siemens              10991  8.880000e+11         NaN   \n",
              "7                       Lutron              10977  2.755777e+10         NaN   \n",
              "8               T&B Cable Tray              11316  6.260000e+11         NaN   \n",
              "9                      LEVITON              10962  7.847768e+10         NaN   \n",
              "\n",
              "     Catalog Number                       Invoice Description  \\\n",
              "0  20BC125A3ANNAEC0                PowerFlex 700 AC Drive 20B   \n",
              "1    SVX050A1-2A1N2                    SVX Independent Drives   \n",
              "2           J55100a    Socket Set  13 Pieces 3/4 IN 12 Points   \n",
              "3    RG12144QB2M50W                        12V DECORATOR UNIT   \n",
              "4        DS4010A-DG            DS4000 ENTRANCE END FITTING DG   \n",
              "5         DSDWNS-DV          DS4000 DOWNWARD SERIES 2 DEV PLT   \n",
              "6  1PH81331HF002BA1  1PH813 MOTOR 20KW,2000RPM,INC,DE-NDE,KEY   \n",
              "7      RRD-W1RLD-PD       RADIORA2 1RLD WALL KEYPAD PALLADIUM   \n",
              "8      AH1424L06240           AL STR 4IN 24W LADDER TRAY 20FT   \n",
              "9        420MI9WLEV           20A Mechanical Interlock - BLUE   \n",
              "\n",
              "                                 Catalog Description  UNSPSC code  IGCC code  \\\n",
              "0  20B,125 A at 55 kW,400V AC Three Phase,IP20/NE...   39122001.0     5104.0   \n",
              "1  SVX Independent Drives, 50HP, NEMA Type 1/IP21...   39122001.0     5104.0   \n",
              "2                                                NaN   27111703.0     2034.0   \n",
              "3                                                NaN   39111709.0        NaN   \n",
              "4  Full-capacity end fitting. Includes four 3/4\"\"...   39131709.0     5570.0   \n",
              "5  Accepts one Ortronics Series II module. Design...   39131709.0     5570.0   \n",
              "6                                                NaN   26101114.0        NaN   \n",
              "7                                                NaN   52161525.0        NaN   \n",
              "8                                                NaN   39131704.0        NaN   \n",
              "9                                                NaN   39121404.0     4528.0   \n",
              "\n",
              "                       CMD Category          GTIN  \n",
              "0                 Inverter drive AC  8.210000e+11  \n",
              "1                 Inverter drive AC  7.870000e+11  \n",
              "2                       Socket sets  6.630000e+11  \n",
              "3              Emergency light unit           NaN  \n",
              "4  Electrical wire or cable raceway  7.870000e+11  \n",
              "5  Electrical wire or cable raceway  7.870000e+11  \n",
              "6                Induction motor AC           NaN  \n",
              "7                    Remote control           NaN  \n",
              "8                        Cable tray           NaN  \n",
              "9                Electrical sleeves  7.847768e+10  "
            ],
            "text/html": [
              "\n",
              "  <div id=\"df-d3dd2969-27d3-48bf-964f-c53bfe7a50e2\">\n",
              "    <div class=\"colab-df-container\">\n",
              "      <div>\n",
              "<style scoped>\n",
              "    .dataframe tbody tr th:only-of-type {\n",
              "        vertical-align: middle;\n",
              "    }\n",
              "\n",
              "    .dataframe tbody tr th {\n",
              "        vertical-align: top;\n",
              "    }\n",
              "\n",
              "    .dataframe thead th {\n",
              "        text-align: right;\n",
              "    }\n",
              "</style>\n",
              "<table border=\"1\" class=\"dataframe\">\n",
              "  <thead>\n",
              "    <tr style=\"text-align: right;\">\n",
              "      <th></th>\n",
              "      <th>ProductId</th>\n",
              "      <th>Manufacturer Account Name</th>\n",
              "      <th>Brand/Label</th>\n",
              "      <th>IDEA''s Public ID</th>\n",
              "      <th>UPC Number</th>\n",
              "      <th>EAN Number</th>\n",
              "      <th>Catalog Number</th>\n",
              "      <th>Invoice Description</th>\n",
              "      <th>Catalog Description</th>\n",
              "      <th>UNSPSC code</th>\n",
              "      <th>IGCC code</th>\n",
              "      <th>CMD Category</th>\n",
              "      <th>GTIN</th>\n",
              "    </tr>\n",
              "  </thead>\n",
              "  <tbody>\n",
              "    <tr>\n",
              "      <th>0</th>\n",
              "      <td>1</td>\n",
              "      <td>Rockwell Automation</td>\n",
              "      <td>Allen-Bradley</td>\n",
              "      <td>11994</td>\n",
              "      <td>8.210000e+11</td>\n",
              "      <td>NaN</td>\n",
              "      <td>20BC125A3ANNAEC0</td>\n",
              "      <td>PowerFlex 700 AC Drive 20B</td>\n",
              "      <td>20B,125 A at 55 kW,400V AC Three Phase,IP20/NE...</td>\n",
              "      <td>39122001.0</td>\n",
              "      <td>5104.0</td>\n",
              "      <td>Inverter drive AC</td>\n",
              "      <td>8.210000e+11</td>\n",
              "    </tr>\n",
              "    <tr>\n",
              "      <th>1</th>\n",
              "      <td>2</td>\n",
              "      <td>Eaton</td>\n",
              "      <td>Eaton</td>\n",
              "      <td>10964</td>\n",
              "      <td>7.870000e+11</td>\n",
              "      <td>NaN</td>\n",
              "      <td>SVX050A1-2A1N2</td>\n",
              "      <td>SVX Independent Drives</td>\n",
              "      <td>SVX Independent Drives, 50HP, NEMA Type 1/IP21...</td>\n",
              "      <td>39122001.0</td>\n",
              "      <td>5104.0</td>\n",
              "      <td>Inverter drive AC</td>\n",
              "      <td>7.870000e+11</td>\n",
              "    </tr>\n",
              "    <tr>\n",
              "      <th>2</th>\n",
              "      <td>3</td>\n",
              "      <td>Stanley Black &amp; Decker</td>\n",
              "      <td>PROTO</td>\n",
              "      <td>12779</td>\n",
              "      <td>6.630000e+11</td>\n",
              "      <td>NaN</td>\n",
              "      <td>J55100a</td>\n",
              "      <td>Socket Set  13 Pieces 3/4 IN 12 Points</td>\n",
              "      <td>NaN</td>\n",
              "      <td>27111703.0</td>\n",
              "      <td>2034.0</td>\n",
              "      <td>Socket sets</td>\n",
              "      <td>6.630000e+11</td>\n",
              "    </tr>\n",
              "    <tr>\n",
              "      <th>3</th>\n",
              "      <td>4</td>\n",
              "      <td>ABB - Installation Products - Canada</td>\n",
              "      <td>Lumacell / Lightalarms</td>\n",
              "      <td>11316</td>\n",
              "      <td>6.250000e+11</td>\n",
              "      <td>NaN</td>\n",
              "      <td>RG12144QB2M50W</td>\n",
              "      <td>12V DECORATOR UNIT</td>\n",
              "      <td>NaN</td>\n",
              "      <td>39111709.0</td>\n",
              "      <td>NaN</td>\n",
              "      <td>Emergency light unit</td>\n",
              "      <td>NaN</td>\n",
              "    </tr>\n",
              "    <tr>\n",
              "      <th>4</th>\n",
              "      <td>5</td>\n",
              "      <td>Legrand-Canada</td>\n",
              "      <td>Legrand - Wiremold (Canada)</td>\n",
              "      <td>14054</td>\n",
              "      <td>7.870000e+11</td>\n",
              "      <td>NaN</td>\n",
              "      <td>DS4010A-DG</td>\n",
              "      <td>DS4000 ENTRANCE END FITTING DG</td>\n",
              "      <td>Full-capacity end fitting. Includes four 3/4\"\"...</td>\n",
              "      <td>39131709.0</td>\n",
              "      <td>5570.0</td>\n",
              "      <td>Electrical wire or cable raceway</td>\n",
              "      <td>7.870000e+11</td>\n",
              "    </tr>\n",
              "    <tr>\n",
              "      <th>5</th>\n",
              "      <td>6</td>\n",
              "      <td>Legrand-Wiremold</td>\n",
              "      <td>Legrand-Wiremold</td>\n",
              "      <td>11311</td>\n",
              "      <td>7.870000e+11</td>\n",
              "      <td>NaN</td>\n",
              "      <td>DSDWNS-DV</td>\n",
              "      <td>DS4000 DOWNWARD SERIES 2 DEV PLT</td>\n",
              "      <td>Accepts one Ortronics Series II module. Design...</td>\n",
              "      <td>39131709.0</td>\n",
              "      <td>5570.0</td>\n",
              "      <td>Electrical wire or cable raceway</td>\n",
              "      <td>7.870000e+11</td>\n",
              "    </tr>\n",
              "    <tr>\n",
              "      <th>6</th>\n",
              "      <td>7</td>\n",
              "      <td>Siemens</td>\n",
              "      <td>Siemens</td>\n",
              "      <td>10991</td>\n",
              "      <td>8.880000e+11</td>\n",
              "      <td>NaN</td>\n",
              "      <td>1PH81331HF002BA1</td>\n",
              "      <td>1PH813 MOTOR 20KW,2000RPM,INC,DE-NDE,KEY</td>\n",
              "      <td>NaN</td>\n",
              "      <td>26101114.0</td>\n",
              "      <td>NaN</td>\n",
              "      <td>Induction motor AC</td>\n",
              "      <td>NaN</td>\n",
              "    </tr>\n",
              "    <tr>\n",
              "      <th>7</th>\n",
              "      <td>8</td>\n",
              "      <td>Lutron Electronics</td>\n",
              "      <td>Lutron</td>\n",
              "      <td>10977</td>\n",
              "      <td>2.755777e+10</td>\n",
              "      <td>NaN</td>\n",
              "      <td>RRD-W1RLD-PD</td>\n",
              "      <td>RADIORA2 1RLD WALL KEYPAD PALLADIUM</td>\n",
              "      <td>NaN</td>\n",
              "      <td>52161525.0</td>\n",
              "      <td>NaN</td>\n",
              "      <td>Remote control</td>\n",
              "      <td>NaN</td>\n",
              "    </tr>\n",
              "    <tr>\n",
              "      <th>8</th>\n",
              "      <td>9</td>\n",
              "      <td>ABB - Installation Products - Canada</td>\n",
              "      <td>T&amp;B Cable Tray</td>\n",
              "      <td>11316</td>\n",
              "      <td>6.260000e+11</td>\n",
              "      <td>NaN</td>\n",
              "      <td>AH1424L06240</td>\n",
              "      <td>AL STR 4IN 24W LADDER TRAY 20FT</td>\n",
              "      <td>NaN</td>\n",
              "      <td>39131704.0</td>\n",
              "      <td>NaN</td>\n",
              "      <td>Cable tray</td>\n",
              "      <td>NaN</td>\n",
              "    </tr>\n",
              "    <tr>\n",
              "      <th>9</th>\n",
              "      <td>10</td>\n",
              "      <td>Leviton</td>\n",
              "      <td>LEVITON</td>\n",
              "      <td>10962</td>\n",
              "      <td>7.847768e+10</td>\n",
              "      <td>NaN</td>\n",
              "      <td>420MI9WLEV</td>\n",
              "      <td>20A Mechanical Interlock - BLUE</td>\n",
              "      <td>NaN</td>\n",
              "      <td>39121404.0</td>\n",
              "      <td>4528.0</td>\n",
              "      <td>Electrical sleeves</td>\n",
              "      <td>7.847768e+10</td>\n",
              "    </tr>\n",
              "  </tbody>\n",
              "</table>\n",
              "</div>\n",
              "      <button class=\"colab-df-convert\" onclick=\"convertToInteractive('df-d3dd2969-27d3-48bf-964f-c53bfe7a50e2')\"\n",
              "              title=\"Convert this dataframe to an interactive table.\"\n",
              "              style=\"display:none;\">\n",
              "        \n",
              "  <svg xmlns=\"http://www.w3.org/2000/svg\" height=\"24px\"viewBox=\"0 0 24 24\"\n",
              "       width=\"24px\">\n",
              "    <path d=\"M0 0h24v24H0V0z\" fill=\"none\"/>\n",
              "    <path d=\"M18.56 5.44l.94 2.06.94-2.06 2.06-.94-2.06-.94-.94-2.06-.94 2.06-2.06.94zm-11 1L8.5 8.5l.94-2.06 2.06-.94-2.06-.94L8.5 2.5l-.94 2.06-2.06.94zm10 10l.94 2.06.94-2.06 2.06-.94-2.06-.94-.94-2.06-.94 2.06-2.06.94z\"/><path d=\"M17.41 7.96l-1.37-1.37c-.4-.4-.92-.59-1.43-.59-.52 0-1.04.2-1.43.59L10.3 9.45l-7.72 7.72c-.78.78-.78 2.05 0 2.83L4 21.41c.39.39.9.59 1.41.59.51 0 1.02-.2 1.41-.59l7.78-7.78 2.81-2.81c.8-.78.8-2.07 0-2.86zM5.41 20L4 18.59l7.72-7.72 1.47 1.35L5.41 20z\"/>\n",
              "  </svg>\n",
              "      </button>\n",
              "      \n",
              "  <style>\n",
              "    .colab-df-container {\n",
              "      display:flex;\n",
              "      flex-wrap:wrap;\n",
              "      gap: 12px;\n",
              "    }\n",
              "\n",
              "    .colab-df-convert {\n",
              "      background-color: #E8F0FE;\n",
              "      border: none;\n",
              "      border-radius: 50%;\n",
              "      cursor: pointer;\n",
              "      display: none;\n",
              "      fill: #1967D2;\n",
              "      height: 32px;\n",
              "      padding: 0 0 0 0;\n",
              "      width: 32px;\n",
              "    }\n",
              "\n",
              "    .colab-df-convert:hover {\n",
              "      background-color: #E2EBFA;\n",
              "      box-shadow: 0px 1px 2px rgba(60, 64, 67, 0.3), 0px 1px 3px 1px rgba(60, 64, 67, 0.15);\n",
              "      fill: #174EA6;\n",
              "    }\n",
              "\n",
              "    [theme=dark] .colab-df-convert {\n",
              "      background-color: #3B4455;\n",
              "      fill: #D2E3FC;\n",
              "    }\n",
              "\n",
              "    [theme=dark] .colab-df-convert:hover {\n",
              "      background-color: #434B5C;\n",
              "      box-shadow: 0px 1px 3px 1px rgba(0, 0, 0, 0.15);\n",
              "      filter: drop-shadow(0px 1px 2px rgba(0, 0, 0, 0.3));\n",
              "      fill: #FFFFFF;\n",
              "    }\n",
              "  </style>\n",
              "\n",
              "      <script>\n",
              "        const buttonEl =\n",
              "          document.querySelector('#df-d3dd2969-27d3-48bf-964f-c53bfe7a50e2 button.colab-df-convert');\n",
              "        buttonEl.style.display =\n",
              "          google.colab.kernel.accessAllowed ? 'block' : 'none';\n",
              "\n",
              "        async function convertToInteractive(key) {\n",
              "          const element = document.querySelector('#df-d3dd2969-27d3-48bf-964f-c53bfe7a50e2');\n",
              "          const dataTable =\n",
              "            await google.colab.kernel.invokeFunction('convertToInteractive',\n",
              "                                                     [key], {});\n",
              "          if (!dataTable) return;\n",
              "\n",
              "          const docLinkHtml = 'Like what you see? Visit the ' +\n",
              "            '<a target=\"_blank\" href=https://colab.research.google.com/notebooks/data_table.ipynb>data table notebook</a>'\n",
              "            + ' to learn more about interactive tables.';\n",
              "          element.innerHTML = '';\n",
              "          dataTable['output_type'] = 'display_data';\n",
              "          await google.colab.output.renderOutput(dataTable, element);\n",
              "          const docLink = document.createElement('div');\n",
              "          docLink.innerHTML = docLinkHtml;\n",
              "          element.appendChild(docLink);\n",
              "        }\n",
              "      </script>\n",
              "    </div>\n",
              "  </div>\n",
              "  "
            ]
          },
          "metadata": {},
          "execution_count": 13
        }
      ],
      "source": [
        "data_init.head(10)"
      ]
    },
    {
      "cell_type": "code",
      "source": [
        "data_init.info()"
      ],
      "metadata": {
        "colab": {
          "base_uri": "https://localhost:8080/"
        },
        "id": "C32XzS8d608Z",
        "outputId": "baeb3229-9395-4c73-f9df-0600fc45a2c6"
      },
      "execution_count": 11,
      "outputs": [
        {
          "output_type": "stream",
          "name": "stdout",
          "text": [
            "<class 'pandas.core.frame.DataFrame'>\n",
            "RangeIndex: 572928 entries, 0 to 572927\n",
            "Data columns (total 13 columns):\n",
            " #   Column                     Non-Null Count   Dtype  \n",
            "---  ------                     --------------   -----  \n",
            " 0   ProductId                  572928 non-null  int64  \n",
            " 1   Manufacturer Account Name  572928 non-null  object \n",
            " 2   Brand/Label                572928 non-null  object \n",
            " 3   IDEA''s Public ID          572928 non-null  int64  \n",
            " 4   UPC Number                 525059 non-null  float64\n",
            " 5   EAN Number                 115523 non-null  float64\n",
            " 6   Catalog Number             572928 non-null  object \n",
            " 7   Invoice Description        572928 non-null  object \n",
            " 8   Catalog Description        387640 non-null  object \n",
            " 9   UNSPSC code                567206 non-null  float64\n",
            " 10  IGCC code                  385015 non-null  float64\n",
            " 11  CMD Category               567195 non-null  object \n",
            " 12  GTIN                       390194 non-null  float64\n",
            "dtypes: float64(5), int64(2), object(6)\n",
            "memory usage: 56.8+ MB\n"
          ]
        }
      ]
    },
    {
      "cell_type": "code",
      "execution_count": 12,
      "metadata": {
        "id": "LFORp22SI3Ug",
        "outputId": "2464475c-14f2-41be-c71d-b7982bae6593",
        "colab": {
          "base_uri": "https://localhost:8080/"
        }
      },
      "outputs": [
        {
          "output_type": "execute_result",
          "data": {
            "text/plain": [
              "ProductId                         0\n",
              "Manufacturer Account Name         0\n",
              "Brand/Label                       0\n",
              "IDEA''s Public ID                 0\n",
              "UPC Number                    47869\n",
              "EAN Number                   457405\n",
              "Catalog Number                    0\n",
              "Invoice Description               0\n",
              "Catalog Description          185288\n",
              "UNSPSC code                    5722\n",
              "IGCC code                    187913\n",
              "CMD Category                   5733\n",
              "GTIN                         182734\n",
              "dtype: int64"
            ]
          },
          "metadata": {},
          "execution_count": 12
        }
      ],
      "source": [
        "data_init.isna().sum()"
      ]
    },
    {
      "cell_type": "code",
      "execution_count": 13,
      "metadata": {
        "id": "q326ulKdI3Uh",
        "outputId": "9ee48498-7932-47f2-81c6-4ac27fe53dc1",
        "colab": {
          "base_uri": "https://localhost:8080/"
        }
      },
      "outputs": [
        {
          "output_type": "stream",
          "name": "stdout",
          "text": [
            "ProductId                    572928\n",
            "Manufacturer Account Name       192\n",
            "Brand/Label                     688\n",
            "IDEA''s Public ID               192\n",
            "UPC Number                   121882\n",
            "EAN Number                    21742\n",
            "Catalog Number               560613\n",
            "Invoice Description          572928\n",
            "Catalog Description          358179\n",
            "UNSPSC code                    2125\n",
            "IGCC code                      2297\n",
            "CMD Category                   2558\n",
            "GTIN                          97608\n",
            "dtype: int64\n"
          ]
        }
      ],
      "source": [
        "print(data_init.apply(lambda col: col.nunique()))"
      ]
    },
    {
      "cell_type": "code",
      "execution_count": 14,
      "metadata": {
        "id": "gJ3Iip9CI3Uh",
        "outputId": "3907f9dc-21df-407d-e337-1a13a260edf3",
        "colab": {
          "base_uri": "https://localhost:8080/"
        }
      },
      "outputs": [
        {
          "output_type": "execute_result",
          "data": {
            "text/plain": [
              "Cable tray fitting and accessories                     21095\n",
              "Circuit breakers                                       17929\n",
              "Molded case circuit breakers                           17075\n",
              "Electrical equipment maintenance and repair service    13541\n",
              "Motor starter controls                                 10630\n",
              "                                                       ...  \n",
              "Band saw tables                                            1\n",
              "Shear pins                                                 1\n",
              "Manual wire straighteners                                  1\n",
              "Paints and primers and finishes                            1\n",
              "Protective aprons                                          1\n",
              "Name: CMD Category, Length: 2558, dtype: int64"
            ]
          },
          "metadata": {},
          "execution_count": 14
        }
      ],
      "source": [
        "cmd_count = data_init['CMD Category'].value_counts()\n",
        "cmd_count"
      ]
    },
    {
      "cell_type": "code",
      "execution_count": 15,
      "metadata": {
        "id": "rXzbmUzwI3Ui",
        "outputId": "80566b0c-6ea2-4bde-b132-4bf57dc21329",
        "colab": {
          "base_uri": "https://localhost:8080/"
        }
      },
      "outputs": [
        {
          "output_type": "stream",
          "name": "stdout",
          "text": [
            "When threthold is 50 the total CMD categories in 'other' categories is 1849\n",
            "The total products in 'other' category is 18526\n",
            "Percentage of products that grouped in the 'other' category is 3.27 %\n"
          ]
        }
      ],
      "source": [
        "threthold = 50\n",
        "others_count = cmd_count[cmd_count <=threthold ].count()\n",
        "others_sum = cmd_count[cmd_count <= threthold].sum()\n",
        "total = cmd_count.sum()\n",
        "other_pct = others_sum/total*100\n",
        "print(\"When threthold is\", threthold, \"the total CMD categories in 'other' categories is\", others_count)\n",
        "print(\"The total products in 'other' category is\", others_sum)\n",
        "print(\"Percentage of products that grouped in the 'other' category is\", f'{other_pct:.2f}',\"%\")"
      ]
    },
    {
      "cell_type": "code",
      "execution_count": 16,
      "metadata": {
        "id": "6YIcP4gCI3Ui",
        "outputId": "ae10a8a2-72af-4f09-c43e-8635f27d573c",
        "colab": {
          "base_uri": "https://localhost:8080/"
        }
      },
      "outputs": [
        {
          "output_type": "execute_result",
          "data": {
            "text/plain": [
              "Siemens                                 54945\n",
              "ABB - Installation Products             43090\n",
              "ABB - Installation Products - Canada    41866\n",
              "Eaton                                   32206\n",
              "Schneider Electric                      21866\n",
              "                                        ...  \n",
              "Demo Enable Manufacturer                   21\n",
              "Ronk Electrical Industries, Inc.           13\n",
              "Veolia                                     12\n",
              "Legrand-Middle Atlantic Products            9\n",
              "Bolt Star LLC                               1\n",
              "Name: Manufacturer Account Name, Length: 192, dtype: int64"
            ]
          },
          "metadata": {},
          "execution_count": 16
        }
      ],
      "source": [
        "mfg_count = data_init['Manufacturer Account Name'].value_counts()\n",
        "mfg_count"
      ]
    },
    {
      "cell_type": "code",
      "execution_count": 17,
      "metadata": {
        "id": "KNjttihdI3Uj",
        "outputId": "b8b9b441-c1f9-4cfe-9b0c-c8549cd8bb7a",
        "colab": {
          "base_uri": "https://localhost:8080/",
          "height": 206
        }
      },
      "outputs": [
        {
          "output_type": "execute_result",
          "data": {
            "text/plain": [
              "   ProductId                     Invoice Description  \\\n",
              "0          1              PowerFlex 700 AC Drive 20B   \n",
              "1          2                  SVX Independent Drives   \n",
              "2          3  Socket Set  13 Pieces 3/4 IN 12 Points   \n",
              "3          4                      12V DECORATOR UNIT   \n",
              "4          5          DS4000 ENTRANCE END FITTING DG   \n",
              "\n",
              "                       CMD Category  \n",
              "0                 Inverter drive AC  \n",
              "1                 Inverter drive AC  \n",
              "2                       Socket sets  \n",
              "3              Emergency light unit  \n",
              "4  Electrical wire or cable raceway  "
            ],
            "text/html": [
              "\n",
              "  <div id=\"df-9a7ea5dc-a008-4cf6-afdd-b1bab6c95d60\">\n",
              "    <div class=\"colab-df-container\">\n",
              "      <div>\n",
              "<style scoped>\n",
              "    .dataframe tbody tr th:only-of-type {\n",
              "        vertical-align: middle;\n",
              "    }\n",
              "\n",
              "    .dataframe tbody tr th {\n",
              "        vertical-align: top;\n",
              "    }\n",
              "\n",
              "    .dataframe thead th {\n",
              "        text-align: right;\n",
              "    }\n",
              "</style>\n",
              "<table border=\"1\" class=\"dataframe\">\n",
              "  <thead>\n",
              "    <tr style=\"text-align: right;\">\n",
              "      <th></th>\n",
              "      <th>ProductId</th>\n",
              "      <th>Invoice Description</th>\n",
              "      <th>CMD Category</th>\n",
              "    </tr>\n",
              "  </thead>\n",
              "  <tbody>\n",
              "    <tr>\n",
              "      <th>0</th>\n",
              "      <td>1</td>\n",
              "      <td>PowerFlex 700 AC Drive 20B</td>\n",
              "      <td>Inverter drive AC</td>\n",
              "    </tr>\n",
              "    <tr>\n",
              "      <th>1</th>\n",
              "      <td>2</td>\n",
              "      <td>SVX Independent Drives</td>\n",
              "      <td>Inverter drive AC</td>\n",
              "    </tr>\n",
              "    <tr>\n",
              "      <th>2</th>\n",
              "      <td>3</td>\n",
              "      <td>Socket Set  13 Pieces 3/4 IN 12 Points</td>\n",
              "      <td>Socket sets</td>\n",
              "    </tr>\n",
              "    <tr>\n",
              "      <th>3</th>\n",
              "      <td>4</td>\n",
              "      <td>12V DECORATOR UNIT</td>\n",
              "      <td>Emergency light unit</td>\n",
              "    </tr>\n",
              "    <tr>\n",
              "      <th>4</th>\n",
              "      <td>5</td>\n",
              "      <td>DS4000 ENTRANCE END FITTING DG</td>\n",
              "      <td>Electrical wire or cable raceway</td>\n",
              "    </tr>\n",
              "  </tbody>\n",
              "</table>\n",
              "</div>\n",
              "      <button class=\"colab-df-convert\" onclick=\"convertToInteractive('df-9a7ea5dc-a008-4cf6-afdd-b1bab6c95d60')\"\n",
              "              title=\"Convert this dataframe to an interactive table.\"\n",
              "              style=\"display:none;\">\n",
              "        \n",
              "  <svg xmlns=\"http://www.w3.org/2000/svg\" height=\"24px\"viewBox=\"0 0 24 24\"\n",
              "       width=\"24px\">\n",
              "    <path d=\"M0 0h24v24H0V0z\" fill=\"none\"/>\n",
              "    <path d=\"M18.56 5.44l.94 2.06.94-2.06 2.06-.94-2.06-.94-.94-2.06-.94 2.06-2.06.94zm-11 1L8.5 8.5l.94-2.06 2.06-.94-2.06-.94L8.5 2.5l-.94 2.06-2.06.94zm10 10l.94 2.06.94-2.06 2.06-.94-2.06-.94-.94-2.06-.94 2.06-2.06.94z\"/><path d=\"M17.41 7.96l-1.37-1.37c-.4-.4-.92-.59-1.43-.59-.52 0-1.04.2-1.43.59L10.3 9.45l-7.72 7.72c-.78.78-.78 2.05 0 2.83L4 21.41c.39.39.9.59 1.41.59.51 0 1.02-.2 1.41-.59l7.78-7.78 2.81-2.81c.8-.78.8-2.07 0-2.86zM5.41 20L4 18.59l7.72-7.72 1.47 1.35L5.41 20z\"/>\n",
              "  </svg>\n",
              "      </button>\n",
              "      \n",
              "  <style>\n",
              "    .colab-df-container {\n",
              "      display:flex;\n",
              "      flex-wrap:wrap;\n",
              "      gap: 12px;\n",
              "    }\n",
              "\n",
              "    .colab-df-convert {\n",
              "      background-color: #E8F0FE;\n",
              "      border: none;\n",
              "      border-radius: 50%;\n",
              "      cursor: pointer;\n",
              "      display: none;\n",
              "      fill: #1967D2;\n",
              "      height: 32px;\n",
              "      padding: 0 0 0 0;\n",
              "      width: 32px;\n",
              "    }\n",
              "\n",
              "    .colab-df-convert:hover {\n",
              "      background-color: #E2EBFA;\n",
              "      box-shadow: 0px 1px 2px rgba(60, 64, 67, 0.3), 0px 1px 3px 1px rgba(60, 64, 67, 0.15);\n",
              "      fill: #174EA6;\n",
              "    }\n",
              "\n",
              "    [theme=dark] .colab-df-convert {\n",
              "      background-color: #3B4455;\n",
              "      fill: #D2E3FC;\n",
              "    }\n",
              "\n",
              "    [theme=dark] .colab-df-convert:hover {\n",
              "      background-color: #434B5C;\n",
              "      box-shadow: 0px 1px 3px 1px rgba(0, 0, 0, 0.15);\n",
              "      filter: drop-shadow(0px 1px 2px rgba(0, 0, 0, 0.3));\n",
              "      fill: #FFFFFF;\n",
              "    }\n",
              "  </style>\n",
              "\n",
              "      <script>\n",
              "        const buttonEl =\n",
              "          document.querySelector('#df-9a7ea5dc-a008-4cf6-afdd-b1bab6c95d60 button.colab-df-convert');\n",
              "        buttonEl.style.display =\n",
              "          google.colab.kernel.accessAllowed ? 'block' : 'none';\n",
              "\n",
              "        async function convertToInteractive(key) {\n",
              "          const element = document.querySelector('#df-9a7ea5dc-a008-4cf6-afdd-b1bab6c95d60');\n",
              "          const dataTable =\n",
              "            await google.colab.kernel.invokeFunction('convertToInteractive',\n",
              "                                                     [key], {});\n",
              "          if (!dataTable) return;\n",
              "\n",
              "          const docLinkHtml = 'Like what you see? Visit the ' +\n",
              "            '<a target=\"_blank\" href=https://colab.research.google.com/notebooks/data_table.ipynb>data table notebook</a>'\n",
              "            + ' to learn more about interactive tables.';\n",
              "          element.innerHTML = '';\n",
              "          dataTable['output_type'] = 'display_data';\n",
              "          await google.colab.output.renderOutput(dataTable, element);\n",
              "          const docLink = document.createElement('div');\n",
              "          docLink.innerHTML = docLinkHtml;\n",
              "          element.appendChild(docLink);\n",
              "        }\n",
              "      </script>\n",
              "    </div>\n",
              "  </div>\n",
              "  "
            ]
          },
          "metadata": {},
          "execution_count": 17
        }
      ],
      "source": [
        "data_clean = data_init[['ProductId','Invoice Description','CMD Category']]\n",
        "data_clean.head()"
      ]
    },
    {
      "cell_type": "code",
      "execution_count": 18,
      "metadata": {
        "id": "opIpnCDyI3Uj",
        "outputId": "404092db-7b35-48ef-c116-5cbfbb5bd662",
        "colab": {
          "base_uri": "https://localhost:8080/"
        }
      },
      "outputs": [
        {
          "output_type": "stream",
          "name": "stdout",
          "text": [
            "3490601\n"
          ]
        }
      ],
      "source": [
        "print(data_clean['Invoice Description'].apply(lambda x: len(x.split(' '))).sum())"
      ]
    },
    {
      "cell_type": "code",
      "execution_count": 19,
      "metadata": {
        "id": "TerK8sbpI3Uj",
        "outputId": "bf63c3a5-993f-448e-d1f5-ac0903bfe116",
        "colab": {
          "base_uri": "https://localhost:8080/",
          "height": 310
        }
      },
      "outputs": [
        {
          "output_type": "stream",
          "name": "stderr",
          "text": [
            "/usr/local/lib/python3.7/dist-packages/ipykernel_launcher.py:1: SettingWithCopyWarning: \n",
            "A value is trying to be set on a copy of a slice from a DataFrame.\n",
            "Try using .loc[row_indexer,col_indexer] = value instead\n",
            "\n",
            "See the caveats in the documentation: https://pandas.pydata.org/pandas-docs/stable/user_guide/indexing.html#returning-a-view-versus-a-copy\n",
            "  \"\"\"Entry point for launching an IPython kernel.\n"
          ]
        },
        {
          "output_type": "execute_result",
          "data": {
            "text/plain": [
              "   ProductId                     Invoice Description  \\\n",
              "0          1              PowerFlex 700 AC Drive 20B   \n",
              "1          2                  SVX Independent Drives   \n",
              "2          3  Socket Set  13 Pieces 3/4 IN 12 Points   \n",
              "3          4                      12V DECORATOR UNIT   \n",
              "4          5          DS4000 ENTRANCE END FITTING DG   \n",
              "\n",
              "                       CMD Category  length  \n",
              "0                 Inverter drive AC      26  \n",
              "1                 Inverter drive AC      22  \n",
              "2                       Socket sets      38  \n",
              "3              Emergency light unit      18  \n",
              "4  Electrical wire or cable raceway      30  "
            ],
            "text/html": [
              "\n",
              "  <div id=\"df-a3b0ee09-de33-4de3-ae96-9157b3027ae2\">\n",
              "    <div class=\"colab-df-container\">\n",
              "      <div>\n",
              "<style scoped>\n",
              "    .dataframe tbody tr th:only-of-type {\n",
              "        vertical-align: middle;\n",
              "    }\n",
              "\n",
              "    .dataframe tbody tr th {\n",
              "        vertical-align: top;\n",
              "    }\n",
              "\n",
              "    .dataframe thead th {\n",
              "        text-align: right;\n",
              "    }\n",
              "</style>\n",
              "<table border=\"1\" class=\"dataframe\">\n",
              "  <thead>\n",
              "    <tr style=\"text-align: right;\">\n",
              "      <th></th>\n",
              "      <th>ProductId</th>\n",
              "      <th>Invoice Description</th>\n",
              "      <th>CMD Category</th>\n",
              "      <th>length</th>\n",
              "    </tr>\n",
              "  </thead>\n",
              "  <tbody>\n",
              "    <tr>\n",
              "      <th>0</th>\n",
              "      <td>1</td>\n",
              "      <td>PowerFlex 700 AC Drive 20B</td>\n",
              "      <td>Inverter drive AC</td>\n",
              "      <td>26</td>\n",
              "    </tr>\n",
              "    <tr>\n",
              "      <th>1</th>\n",
              "      <td>2</td>\n",
              "      <td>SVX Independent Drives</td>\n",
              "      <td>Inverter drive AC</td>\n",
              "      <td>22</td>\n",
              "    </tr>\n",
              "    <tr>\n",
              "      <th>2</th>\n",
              "      <td>3</td>\n",
              "      <td>Socket Set  13 Pieces 3/4 IN 12 Points</td>\n",
              "      <td>Socket sets</td>\n",
              "      <td>38</td>\n",
              "    </tr>\n",
              "    <tr>\n",
              "      <th>3</th>\n",
              "      <td>4</td>\n",
              "      <td>12V DECORATOR UNIT</td>\n",
              "      <td>Emergency light unit</td>\n",
              "      <td>18</td>\n",
              "    </tr>\n",
              "    <tr>\n",
              "      <th>4</th>\n",
              "      <td>5</td>\n",
              "      <td>DS4000 ENTRANCE END FITTING DG</td>\n",
              "      <td>Electrical wire or cable raceway</td>\n",
              "      <td>30</td>\n",
              "    </tr>\n",
              "  </tbody>\n",
              "</table>\n",
              "</div>\n",
              "      <button class=\"colab-df-convert\" onclick=\"convertToInteractive('df-a3b0ee09-de33-4de3-ae96-9157b3027ae2')\"\n",
              "              title=\"Convert this dataframe to an interactive table.\"\n",
              "              style=\"display:none;\">\n",
              "        \n",
              "  <svg xmlns=\"http://www.w3.org/2000/svg\" height=\"24px\"viewBox=\"0 0 24 24\"\n",
              "       width=\"24px\">\n",
              "    <path d=\"M0 0h24v24H0V0z\" fill=\"none\"/>\n",
              "    <path d=\"M18.56 5.44l.94 2.06.94-2.06 2.06-.94-2.06-.94-.94-2.06-.94 2.06-2.06.94zm-11 1L8.5 8.5l.94-2.06 2.06-.94-2.06-.94L8.5 2.5l-.94 2.06-2.06.94zm10 10l.94 2.06.94-2.06 2.06-.94-2.06-.94-.94-2.06-.94 2.06-2.06.94z\"/><path d=\"M17.41 7.96l-1.37-1.37c-.4-.4-.92-.59-1.43-.59-.52 0-1.04.2-1.43.59L10.3 9.45l-7.72 7.72c-.78.78-.78 2.05 0 2.83L4 21.41c.39.39.9.59 1.41.59.51 0 1.02-.2 1.41-.59l7.78-7.78 2.81-2.81c.8-.78.8-2.07 0-2.86zM5.41 20L4 18.59l7.72-7.72 1.47 1.35L5.41 20z\"/>\n",
              "  </svg>\n",
              "      </button>\n",
              "      \n",
              "  <style>\n",
              "    .colab-df-container {\n",
              "      display:flex;\n",
              "      flex-wrap:wrap;\n",
              "      gap: 12px;\n",
              "    }\n",
              "\n",
              "    .colab-df-convert {\n",
              "      background-color: #E8F0FE;\n",
              "      border: none;\n",
              "      border-radius: 50%;\n",
              "      cursor: pointer;\n",
              "      display: none;\n",
              "      fill: #1967D2;\n",
              "      height: 32px;\n",
              "      padding: 0 0 0 0;\n",
              "      width: 32px;\n",
              "    }\n",
              "\n",
              "    .colab-df-convert:hover {\n",
              "      background-color: #E2EBFA;\n",
              "      box-shadow: 0px 1px 2px rgba(60, 64, 67, 0.3), 0px 1px 3px 1px rgba(60, 64, 67, 0.15);\n",
              "      fill: #174EA6;\n",
              "    }\n",
              "\n",
              "    [theme=dark] .colab-df-convert {\n",
              "      background-color: #3B4455;\n",
              "      fill: #D2E3FC;\n",
              "    }\n",
              "\n",
              "    [theme=dark] .colab-df-convert:hover {\n",
              "      background-color: #434B5C;\n",
              "      box-shadow: 0px 1px 3px 1px rgba(0, 0, 0, 0.15);\n",
              "      filter: drop-shadow(0px 1px 2px rgba(0, 0, 0, 0.3));\n",
              "      fill: #FFFFFF;\n",
              "    }\n",
              "  </style>\n",
              "\n",
              "      <script>\n",
              "        const buttonEl =\n",
              "          document.querySelector('#df-a3b0ee09-de33-4de3-ae96-9157b3027ae2 button.colab-df-convert');\n",
              "        buttonEl.style.display =\n",
              "          google.colab.kernel.accessAllowed ? 'block' : 'none';\n",
              "\n",
              "        async function convertToInteractive(key) {\n",
              "          const element = document.querySelector('#df-a3b0ee09-de33-4de3-ae96-9157b3027ae2');\n",
              "          const dataTable =\n",
              "            await google.colab.kernel.invokeFunction('convertToInteractive',\n",
              "                                                     [key], {});\n",
              "          if (!dataTable) return;\n",
              "\n",
              "          const docLinkHtml = 'Like what you see? Visit the ' +\n",
              "            '<a target=\"_blank\" href=https://colab.research.google.com/notebooks/data_table.ipynb>data table notebook</a>'\n",
              "            + ' to learn more about interactive tables.';\n",
              "          element.innerHTML = '';\n",
              "          dataTable['output_type'] = 'display_data';\n",
              "          await google.colab.output.renderOutput(dataTable, element);\n",
              "          const docLink = document.createElement('div');\n",
              "          docLink.innerHTML = docLinkHtml;\n",
              "          element.appendChild(docLink);\n",
              "        }\n",
              "      </script>\n",
              "    </div>\n",
              "  </div>\n",
              "  "
            ]
          },
          "metadata": {},
          "execution_count": 19
        }
      ],
      "source": [
        "data_clean['length'] = data_clean['Invoice Description'].apply(len)\n",
        "data_clean.head()"
      ]
    },
    {
      "cell_type": "code",
      "execution_count": 20,
      "metadata": {
        "id": "BZoF8KCNI3Uk",
        "outputId": "0d085f61-ccc2-412b-a022-b6278f84bcf5",
        "colab": {
          "base_uri": "https://localhost:8080/",
          "height": 390
        }
      },
      "outputs": [
        {
          "output_type": "display_data",
          "data": {
            "text/plain": [
              "<Figure size 864x432 with 1 Axes>"
            ],
            "image/png": "[encoded data removed]"
          },
          "metadata": {
            "needs_background": "light"
          }
        }
      ],
      "source": [
        "data_clean.hist(column='length', bins=200,figsize=(12,6));"
      ]
    },
    {
      "cell_type": "code",
      "execution_count": null,
      "metadata": {
        "id": "Tma7gBRNI3Uk"
      },
      "outputs": [],
      "source": []
    }
  ],
  "metadata": {
    "kernelspec": {
      "display_name": "Python 3",
      "language": "python",
      "name": "python3"
    },
    "language_info": {
      "codemirror_mode": {
        "name": "ipython",
        "version": 3
      },
      "file_extension": ".py",
      "mimetype": "text/x-python",
      "name": "python",
      "nbconvert_exporter": "python",
      "pygments_lexer": "ipython3",
      "version": "3.8.5"
    },
    "colab": {
      "provenance": []
    }
  },
  "nbformat": 4,
  "nbformat_minor": 0
}